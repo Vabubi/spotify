{
 "cells": [
  {
   "cell_type": "markdown",
   "id": "579fa0ee-13b1-489f-8aa7-9d1ca4edbae3",
   "metadata": {},
   "source": [
    "# Analysis of Spotify tracks"
   ]
  },
  {
   "cell_type": "markdown",
   "id": "5c07895d-e6f8-4933-ab4f-b413dd892d95",
   "metadata": {},
   "source": [
    "**Aim:** To examine the audio characteristics of Spotify’s Top 50 tracks such as danceability, energy and loudness, to identify the key features that underpin a successful hit."
   ]
  },
  {
   "cell_type": "markdown",
   "id": "7205d176-d653-4c4e-978e-c2cdd482af16",
   "metadata": {},
   "source": [
    "## 1 Project Setup and Data Acquisition"
   ]
  },
  {
   "cell_type": "code",
   "execution_count": 6,
   "id": "36e72383-4e30-41ec-a65f-833cb9c58f05",
   "metadata": {},
   "outputs": [],
   "source": [
    "import numpy as np\n",
    "import pandas as pd\n",
    "import matplotlib.pyplot as plt\n",
    "import seaborn as sns"
   ]
  },
  {
   "cell_type": "markdown",
   "id": "bc099b20-0515-4389-9df5-6efafeefcf7b",
   "metadata": {},
   "source": [
    "## 2 Data Loading and Initial Exploration"
   ]
  },
  {
   "cell_type": "markdown",
   "id": "633596f7-d8bd-4e08-9db0-a47a409a1253",
   "metadata": {},
   "source": [
    "## **1) Preview the first few rows to see what the data looks like:**\n",
    "#### 2.1–2 Data Loading & Initial Exploration\n",
    "\n",
    "**Goal:**  \n",
    "Load the `spotifytop50csv`, verify that rows and columns are intact, and get an initial look at data types and sample values."
   ]
  },
  {
   "cell_type": "code",
   "execution_count": 7,
   "id": "24e780c8-8285-4082-8248-932c47ba6ead",
   "metadata": {},
   "outputs": [
    {
     "data": {
      "text/html": [
       "<div>\n",
       "<style scoped>\n",
       "    .dataframe tbody tr th:only-of-type {\n",
       "        vertical-align: middle;\n",
       "    }\n",
       "\n",
       "    .dataframe tbody tr th {\n",
       "        vertical-align: top;\n",
       "    }\n",
       "\n",
       "    .dataframe thead th {\n",
       "        text-align: right;\n",
       "    }\n",
       "</style>\n",
       "<table border=\"1\" class=\"dataframe\">\n",
       "  <thead>\n",
       "    <tr style=\"text-align: right;\">\n",
       "      <th></th>\n",
       "      <th>Unnamed: 0</th>\n",
       "      <th>artist</th>\n",
       "      <th>album</th>\n",
       "      <th>track_name</th>\n",
       "      <th>track_id</th>\n",
       "      <th>energy</th>\n",
       "      <th>danceability</th>\n",
       "      <th>key</th>\n",
       "      <th>loudness</th>\n",
       "      <th>acousticness</th>\n",
       "      <th>speechiness</th>\n",
       "      <th>instrumentalness</th>\n",
       "      <th>liveness</th>\n",
       "      <th>valence</th>\n",
       "      <th>tempo</th>\n",
       "      <th>duration_ms</th>\n",
       "      <th>genre</th>\n",
       "    </tr>\n",
       "  </thead>\n",
       "  <tbody>\n",
       "    <tr>\n",
       "      <th>0</th>\n",
       "      <td>0</td>\n",
       "      <td>The Weeknd</td>\n",
       "      <td>After Hours</td>\n",
       "      <td>Blinding Lights</td>\n",
       "      <td>0VjIjW4GlUZAMYd2vXMi3b</td>\n",
       "      <td>0.730</td>\n",
       "      <td>0.514</td>\n",
       "      <td>1</td>\n",
       "      <td>-5.934</td>\n",
       "      <td>0.00146</td>\n",
       "      <td>0.0598</td>\n",
       "      <td>0.000095</td>\n",
       "      <td>0.0897</td>\n",
       "      <td>0.334</td>\n",
       "      <td>171.005</td>\n",
       "      <td>200040</td>\n",
       "      <td>R&amp;B/Soul</td>\n",
       "    </tr>\n",
       "    <tr>\n",
       "      <th>1</th>\n",
       "      <td>1</td>\n",
       "      <td>Tones And I</td>\n",
       "      <td>Dance Monkey</td>\n",
       "      <td>Dance Monkey</td>\n",
       "      <td>1rgnBhdG2JDFTbYkYRZAku</td>\n",
       "      <td>0.593</td>\n",
       "      <td>0.825</td>\n",
       "      <td>6</td>\n",
       "      <td>-6.401</td>\n",
       "      <td>0.68800</td>\n",
       "      <td>0.0988</td>\n",
       "      <td>0.000161</td>\n",
       "      <td>0.1700</td>\n",
       "      <td>0.540</td>\n",
       "      <td>98.078</td>\n",
       "      <td>209755</td>\n",
       "      <td>Alternative/Indie</td>\n",
       "    </tr>\n",
       "    <tr>\n",
       "      <th>2</th>\n",
       "      <td>2</td>\n",
       "      <td>Roddy Ricch</td>\n",
       "      <td>Please Excuse Me For Being Antisocial</td>\n",
       "      <td>The Box</td>\n",
       "      <td>0nbXyq5TXYPCO7pr3N8S4I</td>\n",
       "      <td>0.586</td>\n",
       "      <td>0.896</td>\n",
       "      <td>10</td>\n",
       "      <td>-6.687</td>\n",
       "      <td>0.10400</td>\n",
       "      <td>0.0559</td>\n",
       "      <td>0.000000</td>\n",
       "      <td>0.7900</td>\n",
       "      <td>0.642</td>\n",
       "      <td>116.971</td>\n",
       "      <td>196653</td>\n",
       "      <td>Hip-Hop/Rap</td>\n",
       "    </tr>\n",
       "    <tr>\n",
       "      <th>3</th>\n",
       "      <td>3</td>\n",
       "      <td>SAINt JHN</td>\n",
       "      <td>Roses (Imanbek Remix)</td>\n",
       "      <td>Roses - Imanbek Remix</td>\n",
       "      <td>2Wo6QQD1KMDWeFkkjLqwx5</td>\n",
       "      <td>0.721</td>\n",
       "      <td>0.785</td>\n",
       "      <td>8</td>\n",
       "      <td>-5.457</td>\n",
       "      <td>0.01490</td>\n",
       "      <td>0.0506</td>\n",
       "      <td>0.004320</td>\n",
       "      <td>0.2850</td>\n",
       "      <td>0.894</td>\n",
       "      <td>121.962</td>\n",
       "      <td>176219</td>\n",
       "      <td>Dance/Electronic</td>\n",
       "    </tr>\n",
       "    <tr>\n",
       "      <th>4</th>\n",
       "      <td>4</td>\n",
       "      <td>Dua Lipa</td>\n",
       "      <td>Future Nostalgia</td>\n",
       "      <td>Don't Start Now</td>\n",
       "      <td>3PfIrDoz19wz7qK7tYeu62</td>\n",
       "      <td>0.793</td>\n",
       "      <td>0.793</td>\n",
       "      <td>11</td>\n",
       "      <td>-4.521</td>\n",
       "      <td>0.01230</td>\n",
       "      <td>0.0830</td>\n",
       "      <td>0.000000</td>\n",
       "      <td>0.0951</td>\n",
       "      <td>0.679</td>\n",
       "      <td>123.950</td>\n",
       "      <td>183290</td>\n",
       "      <td>Nu-disco</td>\n",
       "    </tr>\n",
       "  </tbody>\n",
       "</table>\n",
       "</div>"
      ],
      "text/plain": [
       "   Unnamed: 0       artist                                  album  \\\n",
       "0           0   The Weeknd                            After Hours   \n",
       "1           1  Tones And I                           Dance Monkey   \n",
       "2           2  Roddy Ricch  Please Excuse Me For Being Antisocial   \n",
       "3           3    SAINt JHN                  Roses (Imanbek Remix)   \n",
       "4           4     Dua Lipa                       Future Nostalgia   \n",
       "\n",
       "              track_name                track_id  energy  danceability  key  \\\n",
       "0        Blinding Lights  0VjIjW4GlUZAMYd2vXMi3b   0.730         0.514    1   \n",
       "1           Dance Monkey  1rgnBhdG2JDFTbYkYRZAku   0.593         0.825    6   \n",
       "2                The Box  0nbXyq5TXYPCO7pr3N8S4I   0.586         0.896   10   \n",
       "3  Roses - Imanbek Remix  2Wo6QQD1KMDWeFkkjLqwx5   0.721         0.785    8   \n",
       "4        Don't Start Now  3PfIrDoz19wz7qK7tYeu62   0.793         0.793   11   \n",
       "\n",
       "   loudness  acousticness  speechiness  instrumentalness  liveness  valence  \\\n",
       "0    -5.934       0.00146       0.0598          0.000095    0.0897    0.334   \n",
       "1    -6.401       0.68800       0.0988          0.000161    0.1700    0.540   \n",
       "2    -6.687       0.10400       0.0559          0.000000    0.7900    0.642   \n",
       "3    -5.457       0.01490       0.0506          0.004320    0.2850    0.894   \n",
       "4    -4.521       0.01230       0.0830          0.000000    0.0951    0.679   \n",
       "\n",
       "     tempo  duration_ms              genre  \n",
       "0  171.005       200040           R&B/Soul  \n",
       "1   98.078       209755  Alternative/Indie  \n",
       "2  116.971       196653        Hip-Hop/Rap  \n",
       "3  121.962       176219   Dance/Electronic  \n",
       "4  123.950       183290           Nu-disco  "
      ]
     },
     "execution_count": 7,
     "metadata": {},
     "output_type": "execute_result"
    }
   ],
   "source": [
    "\n",
    "data_path = \"../data/spotifytoptracks.csv\"\n",
    "spotify_df = pd.read_csv(data_path)\n",
    "spotify_df.head()"
   ]
  },
  {
   "cell_type": "markdown",
   "id": "b429deb2-7705-419a-907c-2bedc0cb5b72",
   "metadata": {},
   "source": [
    "## **2) This shows the final rows to quickly verify the dataset's end state:**"
   ]
  },
  {
   "cell_type": "code",
   "execution_count": 8,
   "id": "aa5dc9ef-f002-4f37-b62b-98040cac47bf",
   "metadata": {},
   "outputs": [
    {
     "data": {
      "text/html": [
       "<div>\n",
       "<style scoped>\n",
       "    .dataframe tbody tr th:only-of-type {\n",
       "        vertical-align: middle;\n",
       "    }\n",
       "\n",
       "    .dataframe tbody tr th {\n",
       "        vertical-align: top;\n",
       "    }\n",
       "\n",
       "    .dataframe thead th {\n",
       "        text-align: right;\n",
       "    }\n",
       "</style>\n",
       "<table border=\"1\" class=\"dataframe\">\n",
       "  <thead>\n",
       "    <tr style=\"text-align: right;\">\n",
       "      <th></th>\n",
       "      <th>artist</th>\n",
       "      <th>album</th>\n",
       "      <th>track_name</th>\n",
       "      <th>track_id</th>\n",
       "      <th>energy</th>\n",
       "      <th>danceability</th>\n",
       "      <th>key</th>\n",
       "      <th>loudness</th>\n",
       "      <th>acousticness</th>\n",
       "      <th>speechiness</th>\n",
       "      <th>instrumentalness</th>\n",
       "      <th>liveness</th>\n",
       "      <th>valence</th>\n",
       "      <th>tempo</th>\n",
       "      <th>duration_ms</th>\n",
       "      <th>genre</th>\n",
       "    </tr>\n",
       "  </thead>\n",
       "  <tbody>\n",
       "    <tr>\n",
       "      <th>45</th>\n",
       "      <td>Juice WRLD</td>\n",
       "      <td>Goodbye &amp; Good Riddance</td>\n",
       "      <td>Lucid Dreams</td>\n",
       "      <td>285pBltuF7vW8TeWk8hdRR</td>\n",
       "      <td>0.566</td>\n",
       "      <td>0.511</td>\n",
       "      <td>6</td>\n",
       "      <td>-7.230</td>\n",
       "      <td>0.34900</td>\n",
       "      <td>0.2000</td>\n",
       "      <td>0.000000</td>\n",
       "      <td>0.340</td>\n",
       "      <td>0.218</td>\n",
       "      <td>83.903</td>\n",
       "      <td>239836</td>\n",
       "      <td>Pop</td>\n",
       "    </tr>\n",
       "    <tr>\n",
       "      <th>46</th>\n",
       "      <td>Ariana Grande</td>\n",
       "      <td>Stuck with U</td>\n",
       "      <td>Stuck with U (with Justin Bieber)</td>\n",
       "      <td>4HBZA5flZLE435QTztThqH</td>\n",
       "      <td>0.450</td>\n",
       "      <td>0.597</td>\n",
       "      <td>8</td>\n",
       "      <td>-6.658</td>\n",
       "      <td>0.22300</td>\n",
       "      <td>0.0418</td>\n",
       "      <td>0.000000</td>\n",
       "      <td>0.382</td>\n",
       "      <td>0.537</td>\n",
       "      <td>178.765</td>\n",
       "      <td>228482</td>\n",
       "      <td>Pop</td>\n",
       "    </tr>\n",
       "    <tr>\n",
       "      <th>47</th>\n",
       "      <td>JP Saxe</td>\n",
       "      <td>If the World Was Ending (feat. Julia Michaels)</td>\n",
       "      <td>If the World Was Ending - feat. Julia Michaels</td>\n",
       "      <td>2kJwzbxV2ppxnQoYw4GLBZ</td>\n",
       "      <td>0.473</td>\n",
       "      <td>0.464</td>\n",
       "      <td>1</td>\n",
       "      <td>-10.086</td>\n",
       "      <td>0.86600</td>\n",
       "      <td>0.1290</td>\n",
       "      <td>0.000000</td>\n",
       "      <td>0.109</td>\n",
       "      <td>0.604</td>\n",
       "      <td>75.801</td>\n",
       "      <td>208687</td>\n",
       "      <td>Pop</td>\n",
       "    </tr>\n",
       "    <tr>\n",
       "      <th>48</th>\n",
       "      <td>Dua Lipa</td>\n",
       "      <td>Future Nostalgia</td>\n",
       "      <td>Physical</td>\n",
       "      <td>3AzjcOeAmA57TIOr9zF1ZW</td>\n",
       "      <td>0.844</td>\n",
       "      <td>0.647</td>\n",
       "      <td>0</td>\n",
       "      <td>-3.756</td>\n",
       "      <td>0.01370</td>\n",
       "      <td>0.0457</td>\n",
       "      <td>0.000658</td>\n",
       "      <td>0.102</td>\n",
       "      <td>0.746</td>\n",
       "      <td>146.967</td>\n",
       "      <td>193829</td>\n",
       "      <td>Dance/Electronic</td>\n",
       "    </tr>\n",
       "    <tr>\n",
       "      <th>49</th>\n",
       "      <td>Travis Scott</td>\n",
       "      <td>ASTROWORLD</td>\n",
       "      <td>SICKO MODE</td>\n",
       "      <td>2xLMifQCjDGFmkHkpNLD9h</td>\n",
       "      <td>0.730</td>\n",
       "      <td>0.834</td>\n",
       "      <td>8</td>\n",
       "      <td>-3.714</td>\n",
       "      <td>0.00513</td>\n",
       "      <td>0.2220</td>\n",
       "      <td>0.000000</td>\n",
       "      <td>0.124</td>\n",
       "      <td>0.446</td>\n",
       "      <td>155.008</td>\n",
       "      <td>312820</td>\n",
       "      <td>Hip-Hop/Rap</td>\n",
       "    </tr>\n",
       "  </tbody>\n",
       "</table>\n",
       "</div>"
      ],
      "text/plain": [
       "           artist                                           album  \\\n",
       "45     Juice WRLD                         Goodbye & Good Riddance   \n",
       "46  Ariana Grande                                    Stuck with U   \n",
       "47        JP Saxe  If the World Was Ending (feat. Julia Michaels)   \n",
       "48       Dua Lipa                                Future Nostalgia   \n",
       "49   Travis Scott                                      ASTROWORLD   \n",
       "\n",
       "                                        track_name                track_id  \\\n",
       "45                                    Lucid Dreams  285pBltuF7vW8TeWk8hdRR   \n",
       "46               Stuck with U (with Justin Bieber)  4HBZA5flZLE435QTztThqH   \n",
       "47  If the World Was Ending - feat. Julia Michaels  2kJwzbxV2ppxnQoYw4GLBZ   \n",
       "48                                        Physical  3AzjcOeAmA57TIOr9zF1ZW   \n",
       "49                                      SICKO MODE  2xLMifQCjDGFmkHkpNLD9h   \n",
       "\n",
       "    energy  danceability  key  loudness  acousticness  speechiness  \\\n",
       "45   0.566         0.511    6    -7.230       0.34900       0.2000   \n",
       "46   0.450         0.597    8    -6.658       0.22300       0.0418   \n",
       "47   0.473         0.464    1   -10.086       0.86600       0.1290   \n",
       "48   0.844         0.647    0    -3.756       0.01370       0.0457   \n",
       "49   0.730         0.834    8    -3.714       0.00513       0.2220   \n",
       "\n",
       "    instrumentalness  liveness  valence    tempo  duration_ms  \\\n",
       "45          0.000000     0.340    0.218   83.903       239836   \n",
       "46          0.000000     0.382    0.537  178.765       228482   \n",
       "47          0.000000     0.109    0.604   75.801       208687   \n",
       "48          0.000658     0.102    0.746  146.967       193829   \n",
       "49          0.000000     0.124    0.446  155.008       312820   \n",
       "\n",
       "               genre  \n",
       "45               Pop  \n",
       "46               Pop  \n",
       "47               Pop  \n",
       "48  Dance/Electronic  \n",
       "49       Hip-Hop/Rap  "
      ]
     },
     "execution_count": 8,
     "metadata": {},
     "output_type": "execute_result"
    }
   ],
   "source": [
    "spotify_df = spotify_df.drop(columns=['Unnamed: 0'], errors='ignore')\n",
    "spotify_df.tail()"
   ]
  },
  {
   "cell_type": "markdown",
   "id": "762b6435-f9c0-4204-afce-a89c3f0f9397",
   "metadata": {},
   "source": [
    "## 2.1-2 Data Loading & Initial Exploration\n",
    "\n",
    "- **Complete dataset ready for analysis:** Loaded 50 tracks × 16 audio features with zero missing files.\n",
    "- **Feature uniformity:** All expected <u>audio metrics</u> are <u>present</u> and properly typed, enabling direct comparison.  \n",
    "- **Index cleanup:** Removed `Unnamed: 0` to avoid skewing summaries or visuals.\n",
    "\n",
    "---"
   ]
  },
  {
   "cell_type": "markdown",
   "id": "c0a47a5b-c8c0-4812-8b70-28efe253af0e",
   "metadata": {},
   "source": [
    "## **3) Display summary statistics for numeric columns:**"
   ]
  },
  {
   "cell_type": "markdown",
   "id": "c44166d4-f786-49ec-beda-3785f151d2cc",
   "metadata": {},
   "source": [
    "#### 2.3 Summary Statistics for Numeric Audio Features\n",
    "\n",
    "**Goal:**  \n",
    "Review each numeric column’s basic stats."
   ]
  },
  {
   "cell_type": "code",
   "execution_count": 9,
   "id": "4e6325d4-c5ee-415f-be24-2941df77a4db",
   "metadata": {},
   "outputs": [
    {
     "data": {
      "text/html": [
       "<div>\n",
       "<style scoped>\n",
       "    .dataframe tbody tr th:only-of-type {\n",
       "        vertical-align: middle;\n",
       "    }\n",
       "\n",
       "    .dataframe tbody tr th {\n",
       "        vertical-align: top;\n",
       "    }\n",
       "\n",
       "    .dataframe thead th {\n",
       "        text-align: right;\n",
       "    }\n",
       "</style>\n",
       "<table border=\"1\" class=\"dataframe\">\n",
       "  <thead>\n",
       "    <tr style=\"text-align: right;\">\n",
       "      <th></th>\n",
       "      <th>energy</th>\n",
       "      <th>danceability</th>\n",
       "      <th>key</th>\n",
       "      <th>loudness</th>\n",
       "      <th>acousticness</th>\n",
       "      <th>speechiness</th>\n",
       "      <th>instrumentalness</th>\n",
       "      <th>liveness</th>\n",
       "      <th>valence</th>\n",
       "      <th>tempo</th>\n",
       "      <th>duration_ms</th>\n",
       "    </tr>\n",
       "  </thead>\n",
       "  <tbody>\n",
       "    <tr>\n",
       "      <th>count</th>\n",
       "      <td>50.000000</td>\n",
       "      <td>50.000000</td>\n",
       "      <td>50.000000</td>\n",
       "      <td>50.000000</td>\n",
       "      <td>50.000000</td>\n",
       "      <td>50.000000</td>\n",
       "      <td>50.000000</td>\n",
       "      <td>50.000000</td>\n",
       "      <td>50.000000</td>\n",
       "      <td>50.000000</td>\n",
       "      <td>50.000000</td>\n",
       "    </tr>\n",
       "    <tr>\n",
       "      <th>mean</th>\n",
       "      <td>0.609300</td>\n",
       "      <td>0.716720</td>\n",
       "      <td>5.720000</td>\n",
       "      <td>-6.225900</td>\n",
       "      <td>0.256206</td>\n",
       "      <td>0.124158</td>\n",
       "      <td>0.015962</td>\n",
       "      <td>0.196552</td>\n",
       "      <td>0.555710</td>\n",
       "      <td>119.690460</td>\n",
       "      <td>199955.360000</td>\n",
       "    </tr>\n",
       "    <tr>\n",
       "      <th>std</th>\n",
       "      <td>0.154348</td>\n",
       "      <td>0.124975</td>\n",
       "      <td>3.709007</td>\n",
       "      <td>2.349744</td>\n",
       "      <td>0.265250</td>\n",
       "      <td>0.116836</td>\n",
       "      <td>0.094312</td>\n",
       "      <td>0.176610</td>\n",
       "      <td>0.216386</td>\n",
       "      <td>25.414778</td>\n",
       "      <td>33996.122488</td>\n",
       "    </tr>\n",
       "    <tr>\n",
       "      <th>min</th>\n",
       "      <td>0.225000</td>\n",
       "      <td>0.351000</td>\n",
       "      <td>0.000000</td>\n",
       "      <td>-14.454000</td>\n",
       "      <td>0.001460</td>\n",
       "      <td>0.029000</td>\n",
       "      <td>0.000000</td>\n",
       "      <td>0.057400</td>\n",
       "      <td>0.060500</td>\n",
       "      <td>75.801000</td>\n",
       "      <td>140526.000000</td>\n",
       "    </tr>\n",
       "    <tr>\n",
       "      <th>25%</th>\n",
       "      <td>0.494000</td>\n",
       "      <td>0.672500</td>\n",
       "      <td>2.000000</td>\n",
       "      <td>-7.552500</td>\n",
       "      <td>0.052800</td>\n",
       "      <td>0.048325</td>\n",
       "      <td>0.000000</td>\n",
       "      <td>0.093950</td>\n",
       "      <td>0.434000</td>\n",
       "      <td>99.557250</td>\n",
       "      <td>175845.500000</td>\n",
       "    </tr>\n",
       "    <tr>\n",
       "      <th>50%</th>\n",
       "      <td>0.597000</td>\n",
       "      <td>0.746000</td>\n",
       "      <td>6.500000</td>\n",
       "      <td>-5.991500</td>\n",
       "      <td>0.188500</td>\n",
       "      <td>0.070050</td>\n",
       "      <td>0.000000</td>\n",
       "      <td>0.111000</td>\n",
       "      <td>0.560000</td>\n",
       "      <td>116.969000</td>\n",
       "      <td>197853.500000</td>\n",
       "    </tr>\n",
       "    <tr>\n",
       "      <th>75%</th>\n",
       "      <td>0.729750</td>\n",
       "      <td>0.794500</td>\n",
       "      <td>8.750000</td>\n",
       "      <td>-4.285500</td>\n",
       "      <td>0.298750</td>\n",
       "      <td>0.155500</td>\n",
       "      <td>0.000020</td>\n",
       "      <td>0.271250</td>\n",
       "      <td>0.726250</td>\n",
       "      <td>132.317000</td>\n",
       "      <td>215064.000000</td>\n",
       "    </tr>\n",
       "    <tr>\n",
       "      <th>max</th>\n",
       "      <td>0.855000</td>\n",
       "      <td>0.935000</td>\n",
       "      <td>11.000000</td>\n",
       "      <td>-3.280000</td>\n",
       "      <td>0.934000</td>\n",
       "      <td>0.487000</td>\n",
       "      <td>0.657000</td>\n",
       "      <td>0.792000</td>\n",
       "      <td>0.925000</td>\n",
       "      <td>180.067000</td>\n",
       "      <td>312820.000000</td>\n",
       "    </tr>\n",
       "  </tbody>\n",
       "</table>\n",
       "</div>"
      ],
      "text/plain": [
       "          energy  danceability        key   loudness  acousticness  \\\n",
       "count  50.000000     50.000000  50.000000  50.000000     50.000000   \n",
       "mean    0.609300      0.716720   5.720000  -6.225900      0.256206   \n",
       "std     0.154348      0.124975   3.709007   2.349744      0.265250   \n",
       "min     0.225000      0.351000   0.000000 -14.454000      0.001460   \n",
       "25%     0.494000      0.672500   2.000000  -7.552500      0.052800   \n",
       "50%     0.597000      0.746000   6.500000  -5.991500      0.188500   \n",
       "75%     0.729750      0.794500   8.750000  -4.285500      0.298750   \n",
       "max     0.855000      0.935000  11.000000  -3.280000      0.934000   \n",
       "\n",
       "       speechiness  instrumentalness   liveness    valence       tempo  \\\n",
       "count    50.000000         50.000000  50.000000  50.000000   50.000000   \n",
       "mean      0.124158          0.015962   0.196552   0.555710  119.690460   \n",
       "std       0.116836          0.094312   0.176610   0.216386   25.414778   \n",
       "min       0.029000          0.000000   0.057400   0.060500   75.801000   \n",
       "25%       0.048325          0.000000   0.093950   0.434000   99.557250   \n",
       "50%       0.070050          0.000000   0.111000   0.560000  116.969000   \n",
       "75%       0.155500          0.000020   0.271250   0.726250  132.317000   \n",
       "max       0.487000          0.657000   0.792000   0.925000  180.067000   \n",
       "\n",
       "         duration_ms  \n",
       "count      50.000000  \n",
       "mean   199955.360000  \n",
       "std     33996.122488  \n",
       "min    140526.000000  \n",
       "25%    175845.500000  \n",
       "50%    197853.500000  \n",
       "75%    215064.000000  \n",
       "max    312820.000000  "
      ]
     },
     "execution_count": 9,
     "metadata": {},
     "output_type": "execute_result"
    }
   ],
   "source": [
    "spotify_df.describe()"
   ]
  },
  {
   "cell_type": "markdown",
   "id": "425d7f78-8719-4513-96e8-3a45746676a7",
   "metadata": {},
   "source": [
    "## 2.3 Summary Statistics for Key Audio Features\n",
    "\n",
    "- Every numeric column has 50 values (no missing data).  \n",
    "- **Energy:** Ranges from 0.23 to 0.85.  \n",
    "- **Danceability:** Spans 0.35 to 0.94.  \n",
    "- **Loudness:** Goes from -14.45 dB to -3.28 dB.  \n",
    "- **Tempo:** Varies between 76 BPM and 180 BPM.  \n",
    "- **Duration:** Runs from 140 526 ms to 312 820 ms.\n",
    "\n",
    "---"
   ]
  },
  {
   "cell_type": "markdown",
   "id": "09e1c20b-33de-4a71-b3cb-4237786f8774",
   "metadata": {},
   "source": [
    "## **4) Inspect summary information about the Dataframe (data types and non-null counts):**"
   ]
  },
  {
   "cell_type": "markdown",
   "id": "93276a27-73e0-4c5e-acdf-345445130636",
   "metadata": {},
   "source": [
    "#### 2.4 Inspect DataFrame Summary\n",
    "**Goal:**  \n",
    "View each column’s data type and non-null count to verify structure and completeness."
   ]
  },
  {
   "cell_type": "code",
   "execution_count": 64,
   "id": "24570873-79da-4af6-9ec3-1406bcedef4f",
   "metadata": {},
   "outputs": [
    {
     "name": "stdout",
     "output_type": "stream",
     "text": [
      "<class 'pandas.core.frame.DataFrame'>\n",
      "RangeIndex: 50 entries, 0 to 49\n",
      "Data columns (total 16 columns):\n",
      " #   Column            Non-Null Count  Dtype  \n",
      "---  ------            --------------  -----  \n",
      " 0   artist            50 non-null     object \n",
      " 1   album             50 non-null     object \n",
      " 2   track_name        50 non-null     object \n",
      " 3   track_id          50 non-null     object \n",
      " 4   energy            50 non-null     float64\n",
      " 5   danceability      50 non-null     float64\n",
      " 6   key               50 non-null     int64  \n",
      " 7   loudness          50 non-null     float64\n",
      " 8   acousticness      50 non-null     float64\n",
      " 9   speechiness       50 non-null     float64\n",
      " 10  instrumentalness  50 non-null     float64\n",
      " 11  liveness          50 non-null     float64\n",
      " 12  valence           50 non-null     float64\n",
      " 13  tempo             50 non-null     float64\n",
      " 14  duration_ms       50 non-null     int64  \n",
      " 15  genre             50 non-null     object \n",
      "dtypes: float64(9), int64(2), object(5)\n",
      "memory usage: 6.4+ KB\n"
     ]
    }
   ],
   "source": [
    "spotify_df.info()"
   ]
  },
  {
   "cell_type": "markdown",
   "id": "4aad1ae2-daa1-4d57-947a-671c83fd28f7",
   "metadata": {},
   "source": [
    "## 2.4 Key Insights from DataFrame Structure\n",
    "\n",
    "- **Complete dataset:** 50 rows × 16 columns, zero missing values.\n",
    "- **Numeric features:** 11 floats/ints ready for analysis.\n",
    "- **Categorical columns:** 5 fields (artist, album, track_name, track_id, key).\n",
    "- **Memory usage:** 6.4+ KB\n",
    "\n",
    "**Takeaway:** A clean, complete dataset lays the foundation for reliable exploration and downstream analyses.\n",
    "\n",
    "---"
   ]
  },
  {
   "cell_type": "markdown",
   "id": "8e146060-fd95-4fc7-a3a7-bb2ee848ec77",
   "metadata": {
    "jp-MarkdownHeadingCollapsed": true
   },
   "source": [
    "## 3 Data cleaning"
   ]
  },
  {
   "cell_type": "markdown",
   "id": "7da28c57-f27c-4b1c-b9e8-2fe30ed1c778",
   "metadata": {},
   "source": [
    "## **1) Check for missing values:**"
   ]
  },
  {
   "cell_type": "markdown",
   "id": "6a5c57c6-c356-488f-9219-49c1e03b3904",
   "metadata": {},
   "source": [
    "#### 3.1 Check for Missing Values\n",
    "\n",
    "**Goal:**  \n",
    "Determine whether any features in the dataset contain null (missing) entries."
   ]
  },
  {
   "cell_type": "code",
   "execution_count": 11,
   "id": "d363720b-e887-4147-99ff-89c8f4fd8fa8",
   "metadata": {},
   "outputs": [
    {
     "data": {
      "text/plain": [
       "artist              0\n",
       "album               0\n",
       "track_name          0\n",
       "track_id            0\n",
       "energy              0\n",
       "danceability        0\n",
       "key                 0\n",
       "loudness            0\n",
       "acousticness        0\n",
       "speechiness         0\n",
       "instrumentalness    0\n",
       "liveness            0\n",
       "valence             0\n",
       "tempo               0\n",
       "duration_ms         0\n",
       "genre               0\n",
       "dtype: int64"
      ]
     },
     "execution_count": 11,
     "metadata": {},
     "output_type": "execute_result"
    }
   ],
   "source": [
    "spotify_df.isnull().sum()"
   ]
  },
  {
   "cell_type": "markdown",
   "id": "30dcdc17-361b-46b9-9447-c33652ef5b62",
   "metadata": {},
   "source": [
    "## 3.1 Check for Missing Values\n",
    "\n",
    "- **Takeaway:** Every one of the 16 columns has <U>zero missing entries</u>.\n",
    "\n",
    "---"
   ]
  },
  {
   "cell_type": "markdown",
   "id": "214dc328-db13-4fa9-b865-535b90efd4a9",
   "metadata": {},
   "source": [
    "## **2) Show number of duplicate rows:**"
   ]
  },
  {
   "cell_type": "markdown",
   "id": "2be277d4-2e71-4111-bdb5-5280597ccc5d",
   "metadata": {},
   "source": [
    "#### 3.2 Duplicate Row Check\n",
    "\n",
    "**Goal:**  \n",
    "Find out how many exact duplicate rows are in the dataset."
   ]
  },
  {
   "cell_type": "code",
   "execution_count": 13,
   "id": "9eb56f18-3702-41aa-9496-824968cc32bc",
   "metadata": {},
   "outputs": [
    {
     "name": "stdout",
     "output_type": "stream",
     "text": [
      "Number of duplicate rows: 0\n"
     ]
    }
   ],
   "source": [
    "num_duplicates = spotify_df.duplicated().sum()\n",
    "print(\"Number of duplicate rows:\", num_duplicates)"
   ]
  },
  {
   "cell_type": "markdown",
   "id": "1b48eb8f-b22b-4cc0-ae30-ddc05d3207bc",
   "metadata": {},
   "source": [
    "## 3.2 Duplicate Row Check\n",
    "-  **Takeaway:** <u>Zero</u> exact <u>duplicate rows</u> - each entry is a distinct track record.\n",
    "\n",
    "---"
   ]
  },
  {
   "cell_type": "markdown",
   "id": "5ee1b275-b79f-477d-9a2e-aaeef2aac641",
   "metadata": {},
   "source": [
    "## **3) Treating Outliers:**"
   ]
  },
  {
   "cell_type": "markdown",
   "id": "602e89c7-1895-4d7d-974b-422848b3a9fe",
   "metadata": {},
   "source": [
    "#### 3.3 Treating Outliers\n",
    "**Goal:**  \n",
    "Identify extreme values in each numeric feature using the IQR rule (1.5 × IQR beyond Q1/Q3)."
   ]
  },
  {
   "cell_type": "code",
   "execution_count": 14,
   "id": "ed392350-3fc7-4c98-bddd-83e43c232060",
   "metadata": {},
   "outputs": [
    {
     "name": "stdout",
     "output_type": "stream",
     "text": [
      "energy outliers: 0\n",
      "danceability outliers: 3\n",
      "key outliers: 0\n",
      "loudness outliers: 1\n",
      "acousticness outliers: 7\n",
      "speechiness outliers: 6\n",
      "instrumentalness outliers: 12\n",
      "liveness outliers: 3\n",
      "valence outliers: 0\n",
      "tempo outliers: 0\n",
      "duration_ms outliers: 2\n"
     ]
    }
   ],
   "source": [
    "\"\"\"\n",
    "Cell 1: compute IQR bounds and print outlier counts\n",
    "\"\"\"\n",
    "num_cols = spotify_df.select_dtypes(include=np.number).columns.tolist()\n",
    "\n",
    "bounds = {}\n",
    "\n",
    "for col in num_cols:\n",
    "    q1 = spotify_df[col].quantile(0.25)\n",
    "    q3 = spotify_df[col].quantile(0.75)\n",
    "    iqr = q3 - q1\n",
    "    lower_bound = q1 - 1.5 * iqr\n",
    "    higher_bound = q3 + 1.5 * iqr\n",
    "    \n",
    "    bounds[col] = (lower_bound, higher_bound)\n",
    "    \n",
    "    out = spotify_df[\n",
    "        (spotify_df[col] < lower_bound)\n",
    "        | (spotify_df[col] > higher_bound)\n",
    "    ]\n",
    "    print(col, \"outliers:\", len(out))"
   ]
  },
  {
   "cell_type": "markdown",
   "id": "42087ae7-f775-42e6-821b-4e022dde6af3",
   "metadata": {},
   "source": [
    "**Goal:**  \n",
    "Build a outlier table that flags which tracks fall outside the IQR-based bounds for each numeric feature but also captures the exact outlier values and their cutoff thresholds."
   ]
  },
  {
   "cell_type": "code",
   "execution_count": 65,
   "id": "e3cb7001-7f41-4238-8954-c06bc3737a15",
   "metadata": {},
   "outputs": [
    {
     "data": {
      "text/html": [
       "<div>\n",
       "<style scoped>\n",
       "    .dataframe tbody tr th:only-of-type {\n",
       "        vertical-align: middle;\n",
       "    }\n",
       "\n",
       "    .dataframe tbody tr th {\n",
       "        vertical-align: top;\n",
       "    }\n",
       "\n",
       "    .dataframe thead th {\n",
       "        text-align: right;\n",
       "    }\n",
       "</style>\n",
       "<table border=\"1\" class=\"dataframe\">\n",
       "  <thead>\n",
       "    <tr style=\"text-align: right;\">\n",
       "      <th></th>\n",
       "      <th>artist</th>\n",
       "      <th>track_name</th>\n",
       "      <th>feature</th>\n",
       "      <th>value</th>\n",
       "      <th>lower_bound</th>\n",
       "      <th>upper_bound</th>\n",
       "    </tr>\n",
       "  </thead>\n",
       "  <tbody>\n",
       "    <tr>\n",
       "      <th>1</th>\n",
       "      <td>Lewis Capaldi</td>\n",
       "      <td>Before You Go</td>\n",
       "      <td>danceability</td>\n",
       "      <td>0.459000</td>\n",
       "      <td>0.489500</td>\n",
       "      <td>0.977500</td>\n",
       "    </tr>\n",
       "    <tr>\n",
       "      <th>2</th>\n",
       "      <td>Billie Eilish</td>\n",
       "      <td>lovely (with Khalid)</td>\n",
       "      <td>danceability</td>\n",
       "      <td>0.351000</td>\n",
       "      <td>0.489500</td>\n",
       "      <td>0.977500</td>\n",
       "    </tr>\n",
       "    <tr>\n",
       "      <th>3</th>\n",
       "      <td>JP Saxe</td>\n",
       "      <td>If the World Was Ending - feat. Julia Michaels</td>\n",
       "      <td>danceability</td>\n",
       "      <td>0.464000</td>\n",
       "      <td>0.489500</td>\n",
       "      <td>0.977500</td>\n",
       "    </tr>\n",
       "    <tr>\n",
       "      <th>4</th>\n",
       "      <td>Billie Eilish</td>\n",
       "      <td>everything i wanted</td>\n",
       "      <td>loudness</td>\n",
       "      <td>-14.454000</td>\n",
       "      <td>-12.453000</td>\n",
       "      <td>0.615000</td>\n",
       "    </tr>\n",
       "    <tr>\n",
       "      <th>5</th>\n",
       "      <td>Tones And I</td>\n",
       "      <td>Dance Monkey</td>\n",
       "      <td>acousticness</td>\n",
       "      <td>0.688000</td>\n",
       "      <td>-0.316125</td>\n",
       "      <td>0.667675</td>\n",
       "    </tr>\n",
       "    <tr>\n",
       "      <th>6</th>\n",
       "      <td>Powfu</td>\n",
       "      <td>death bed (coffee for your head)</td>\n",
       "      <td>acousticness</td>\n",
       "      <td>0.731000</td>\n",
       "      <td>-0.316125</td>\n",
       "      <td>0.667675</td>\n",
       "    </tr>\n",
       "    <tr>\n",
       "      <th>7</th>\n",
       "      <td>Lewis Capaldi</td>\n",
       "      <td>Someone You Loved</td>\n",
       "      <td>acousticness</td>\n",
       "      <td>0.751000</td>\n",
       "      <td>-0.316125</td>\n",
       "      <td>0.667675</td>\n",
       "    </tr>\n",
       "    <tr>\n",
       "      <th>8</th>\n",
       "      <td>Maroon 5</td>\n",
       "      <td>Memories</td>\n",
       "      <td>acousticness</td>\n",
       "      <td>0.837000</td>\n",
       "      <td>-0.316125</td>\n",
       "      <td>0.667675</td>\n",
       "    </tr>\n",
       "    <tr>\n",
       "      <th>9</th>\n",
       "      <td>Billie Eilish</td>\n",
       "      <td>everything i wanted</td>\n",
       "      <td>acousticness</td>\n",
       "      <td>0.902000</td>\n",
       "      <td>-0.316125</td>\n",
       "      <td>0.667675</td>\n",
       "    </tr>\n",
       "    <tr>\n",
       "      <th>10</th>\n",
       "      <td>Billie Eilish</td>\n",
       "      <td>lovely (with Khalid)</td>\n",
       "      <td>acousticness</td>\n",
       "      <td>0.934000</td>\n",
       "      <td>-0.316125</td>\n",
       "      <td>0.667675</td>\n",
       "    </tr>\n",
       "    <tr>\n",
       "      <th>11</th>\n",
       "      <td>JP Saxe</td>\n",
       "      <td>If the World Was Ending - feat. Julia Michaels</td>\n",
       "      <td>acousticness</td>\n",
       "      <td>0.866000</td>\n",
       "      <td>-0.316125</td>\n",
       "      <td>0.667675</td>\n",
       "    </tr>\n",
       "    <tr>\n",
       "      <th>12</th>\n",
       "      <td>Future</td>\n",
       "      <td>Life Is Good (feat. Drake)</td>\n",
       "      <td>speechiness</td>\n",
       "      <td>0.487000</td>\n",
       "      <td>-0.112437</td>\n",
       "      <td>0.316263</td>\n",
       "    </tr>\n",
       "    <tr>\n",
       "      <th>13</th>\n",
       "      <td>Billie Eilish</td>\n",
       "      <td>bad guy</td>\n",
       "      <td>speechiness</td>\n",
       "      <td>0.375000</td>\n",
       "      <td>-0.112437</td>\n",
       "      <td>0.316263</td>\n",
       "    </tr>\n",
       "    <tr>\n",
       "      <th>14</th>\n",
       "      <td>Cardi B</td>\n",
       "      <td>WAP (feat. Megan Thee Stallion)</td>\n",
       "      <td>speechiness</td>\n",
       "      <td>0.375000</td>\n",
       "      <td>-0.112437</td>\n",
       "      <td>0.316263</td>\n",
       "    </tr>\n",
       "    <tr>\n",
       "      <th>15</th>\n",
       "      <td>Eminem</td>\n",
       "      <td>Godzilla (feat. Juice WRLD)</td>\n",
       "      <td>speechiness</td>\n",
       "      <td>0.342000</td>\n",
       "      <td>-0.112437</td>\n",
       "      <td>0.316263</td>\n",
       "    </tr>\n",
       "    <tr>\n",
       "      <th>16</th>\n",
       "      <td>Maluma</td>\n",
       "      <td>Hawái</td>\n",
       "      <td>speechiness</td>\n",
       "      <td>0.389000</td>\n",
       "      <td>-0.112437</td>\n",
       "      <td>0.316263</td>\n",
       "    </tr>\n",
       "    <tr>\n",
       "      <th>17</th>\n",
       "      <td>Bad Bunny</td>\n",
       "      <td>Safaera</td>\n",
       "      <td>speechiness</td>\n",
       "      <td>0.379000</td>\n",
       "      <td>-0.112437</td>\n",
       "      <td>0.316263</td>\n",
       "    </tr>\n",
       "    <tr>\n",
       "      <th>18</th>\n",
       "      <td>The Weeknd</td>\n",
       "      <td>Blinding Lights</td>\n",
       "      <td>instrumentalness</td>\n",
       "      <td>0.000095</td>\n",
       "      <td>-0.000030</td>\n",
       "      <td>0.000051</td>\n",
       "    </tr>\n",
       "    <tr>\n",
       "      <th>19</th>\n",
       "      <td>Tones And I</td>\n",
       "      <td>Dance Monkey</td>\n",
       "      <td>instrumentalness</td>\n",
       "      <td>0.000161</td>\n",
       "      <td>-0.000030</td>\n",
       "      <td>0.000051</td>\n",
       "    </tr>\n",
       "    <tr>\n",
       "      <th>20</th>\n",
       "      <td>SAINt JHN</td>\n",
       "      <td>Roses - Imanbek Remix</td>\n",
       "      <td>instrumentalness</td>\n",
       "      <td>0.004320</td>\n",
       "      <td>-0.000030</td>\n",
       "      <td>0.000051</td>\n",
       "    </tr>\n",
       "    <tr>\n",
       "      <th>21</th>\n",
       "      <td>KAROL G</td>\n",
       "      <td>Tusa</td>\n",
       "      <td>instrumentalness</td>\n",
       "      <td>0.000134</td>\n",
       "      <td>-0.000030</td>\n",
       "      <td>0.000051</td>\n",
       "    </tr>\n",
       "    <tr>\n",
       "      <th>22</th>\n",
       "      <td>Post Malone</td>\n",
       "      <td>Circles</td>\n",
       "      <td>instrumentalness</td>\n",
       "      <td>0.002440</td>\n",
       "      <td>-0.000030</td>\n",
       "      <td>0.000051</td>\n",
       "    </tr>\n",
       "    <tr>\n",
       "      <th>23</th>\n",
       "      <td>Billie Eilish</td>\n",
       "      <td>everything i wanted</td>\n",
       "      <td>instrumentalness</td>\n",
       "      <td>0.657000</td>\n",
       "      <td>-0.000030</td>\n",
       "      <td>0.000051</td>\n",
       "    </tr>\n",
       "    <tr>\n",
       "      <th>24</th>\n",
       "      <td>Billie Eilish</td>\n",
       "      <td>bad guy</td>\n",
       "      <td>instrumentalness</td>\n",
       "      <td>0.130000</td>\n",
       "      <td>-0.000030</td>\n",
       "      <td>0.000051</td>\n",
       "    </tr>\n",
       "    <tr>\n",
       "      <th>25</th>\n",
       "      <td>BENEE</td>\n",
       "      <td>Supalonely (feat. Gus Dapperton)</td>\n",
       "      <td>instrumentalness</td>\n",
       "      <td>0.000209</td>\n",
       "      <td>-0.000030</td>\n",
       "      <td>0.000051</td>\n",
       "    </tr>\n",
       "    <tr>\n",
       "      <th>26</th>\n",
       "      <td>Surf Mesa</td>\n",
       "      <td>ily (i love you baby) (feat. Emilee)</td>\n",
       "      <td>instrumentalness</td>\n",
       "      <td>0.001880</td>\n",
       "      <td>-0.000030</td>\n",
       "      <td>0.000051</td>\n",
       "    </tr>\n",
       "    <tr>\n",
       "      <th>27</th>\n",
       "      <td>Regard</td>\n",
       "      <td>Ride It</td>\n",
       "      <td>instrumentalness</td>\n",
       "      <td>0.000064</td>\n",
       "      <td>-0.000030</td>\n",
       "      <td>0.000051</td>\n",
       "    </tr>\n",
       "    <tr>\n",
       "      <th>28</th>\n",
       "      <td>Black Eyed Peas</td>\n",
       "      <td>RITMO (Bad Boys For Life)</td>\n",
       "      <td>instrumentalness</td>\n",
       "      <td>0.001090</td>\n",
       "      <td>-0.000030</td>\n",
       "      <td>0.000051</td>\n",
       "    </tr>\n",
       "    <tr>\n",
       "      <th>29</th>\n",
       "      <td>Dua Lipa</td>\n",
       "      <td>Physical</td>\n",
       "      <td>instrumentalness</td>\n",
       "      <td>0.000658</td>\n",
       "      <td>-0.000030</td>\n",
       "      <td>0.000051</td>\n",
       "    </tr>\n",
       "    <tr>\n",
       "      <th>30</th>\n",
       "      <td>Roddy Ricch</td>\n",
       "      <td>The Box</td>\n",
       "      <td>liveness</td>\n",
       "      <td>0.790000</td>\n",
       "      <td>-0.172000</td>\n",
       "      <td>0.537200</td>\n",
       "    </tr>\n",
       "    <tr>\n",
       "      <th>31</th>\n",
       "      <td>Powfu</td>\n",
       "      <td>death bed (coffee for your head)</td>\n",
       "      <td>liveness</td>\n",
       "      <td>0.696000</td>\n",
       "      <td>-0.172000</td>\n",
       "      <td>0.537200</td>\n",
       "    </tr>\n",
       "    <tr>\n",
       "      <th>32</th>\n",
       "      <td>Black Eyed Peas</td>\n",
       "      <td>RITMO (Bad Boys For Life)</td>\n",
       "      <td>liveness</td>\n",
       "      <td>0.792000</td>\n",
       "      <td>-0.172000</td>\n",
       "      <td>0.537200</td>\n",
       "    </tr>\n",
       "    <tr>\n",
       "      <th>33</th>\n",
       "      <td>Bad Bunny</td>\n",
       "      <td>Safaera</td>\n",
       "      <td>duration_ms</td>\n",
       "      <td>295177.000000</td>\n",
       "      <td>117017.750000</td>\n",
       "      <td>273891.750000</td>\n",
       "    </tr>\n",
       "    <tr>\n",
       "      <th>34</th>\n",
       "      <td>Travis Scott</td>\n",
       "      <td>SICKO MODE</td>\n",
       "      <td>duration_ms</td>\n",
       "      <td>312820.000000</td>\n",
       "      <td>117017.750000</td>\n",
       "      <td>273891.750000</td>\n",
       "    </tr>\n",
       "  </tbody>\n",
       "</table>\n",
       "</div>"
      ],
      "text/plain": [
       "             artist                                      track_name  \\\n",
       "1     Lewis Capaldi                                   Before You Go   \n",
       "2     Billie Eilish                            lovely (with Khalid)   \n",
       "3           JP Saxe  If the World Was Ending - feat. Julia Michaels   \n",
       "4     Billie Eilish                             everything i wanted   \n",
       "5       Tones And I                                    Dance Monkey   \n",
       "6             Powfu                death bed (coffee for your head)   \n",
       "7     Lewis Capaldi                               Someone You Loved   \n",
       "8          Maroon 5                                        Memories   \n",
       "9     Billie Eilish                             everything i wanted   \n",
       "10    Billie Eilish                            lovely (with Khalid)   \n",
       "11          JP Saxe  If the World Was Ending - feat. Julia Michaels   \n",
       "12           Future                      Life Is Good (feat. Drake)   \n",
       "13    Billie Eilish                                         bad guy   \n",
       "14          Cardi B                 WAP (feat. Megan Thee Stallion)   \n",
       "15           Eminem                     Godzilla (feat. Juice WRLD)   \n",
       "16           Maluma                                           Hawái   \n",
       "17        Bad Bunny                                         Safaera   \n",
       "18       The Weeknd                                 Blinding Lights   \n",
       "19      Tones And I                                    Dance Monkey   \n",
       "20        SAINt JHN                           Roses - Imanbek Remix   \n",
       "21          KAROL G                                            Tusa   \n",
       "22      Post Malone                                         Circles   \n",
       "23    Billie Eilish                             everything i wanted   \n",
       "24    Billie Eilish                                         bad guy   \n",
       "25            BENEE                Supalonely (feat. Gus Dapperton)   \n",
       "26        Surf Mesa            ily (i love you baby) (feat. Emilee)   \n",
       "27           Regard                                         Ride It   \n",
       "28  Black Eyed Peas                       RITMO (Bad Boys For Life)   \n",
       "29         Dua Lipa                                        Physical   \n",
       "30      Roddy Ricch                                         The Box   \n",
       "31            Powfu                death bed (coffee for your head)   \n",
       "32  Black Eyed Peas                       RITMO (Bad Boys For Life)   \n",
       "33        Bad Bunny                                         Safaera   \n",
       "34     Travis Scott                                      SICKO MODE   \n",
       "\n",
       "             feature          value    lower_bound    upper_bound  \n",
       "1       danceability       0.459000       0.489500       0.977500  \n",
       "2       danceability       0.351000       0.489500       0.977500  \n",
       "3       danceability       0.464000       0.489500       0.977500  \n",
       "4           loudness     -14.454000     -12.453000       0.615000  \n",
       "5       acousticness       0.688000      -0.316125       0.667675  \n",
       "6       acousticness       0.731000      -0.316125       0.667675  \n",
       "7       acousticness       0.751000      -0.316125       0.667675  \n",
       "8       acousticness       0.837000      -0.316125       0.667675  \n",
       "9       acousticness       0.902000      -0.316125       0.667675  \n",
       "10      acousticness       0.934000      -0.316125       0.667675  \n",
       "11      acousticness       0.866000      -0.316125       0.667675  \n",
       "12       speechiness       0.487000      -0.112437       0.316263  \n",
       "13       speechiness       0.375000      -0.112437       0.316263  \n",
       "14       speechiness       0.375000      -0.112437       0.316263  \n",
       "15       speechiness       0.342000      -0.112437       0.316263  \n",
       "16       speechiness       0.389000      -0.112437       0.316263  \n",
       "17       speechiness       0.379000      -0.112437       0.316263  \n",
       "18  instrumentalness       0.000095      -0.000030       0.000051  \n",
       "19  instrumentalness       0.000161      -0.000030       0.000051  \n",
       "20  instrumentalness       0.004320      -0.000030       0.000051  \n",
       "21  instrumentalness       0.000134      -0.000030       0.000051  \n",
       "22  instrumentalness       0.002440      -0.000030       0.000051  \n",
       "23  instrumentalness       0.657000      -0.000030       0.000051  \n",
       "24  instrumentalness       0.130000      -0.000030       0.000051  \n",
       "25  instrumentalness       0.000209      -0.000030       0.000051  \n",
       "26  instrumentalness       0.001880      -0.000030       0.000051  \n",
       "27  instrumentalness       0.000064      -0.000030       0.000051  \n",
       "28  instrumentalness       0.001090      -0.000030       0.000051  \n",
       "29  instrumentalness       0.000658      -0.000030       0.000051  \n",
       "30          liveness       0.790000      -0.172000       0.537200  \n",
       "31          liveness       0.696000      -0.172000       0.537200  \n",
       "32          liveness       0.792000      -0.172000       0.537200  \n",
       "33       duration_ms  295177.000000  117017.750000  273891.750000  \n",
       "34       duration_ms  312820.000000  117017.750000  273891.750000  "
      ]
     },
     "execution_count": 65,
     "metadata": {},
     "output_type": "execute_result"
    }
   ],
   "source": [
    "\"\"\"\n",
    "Cell 2: build a detailed outlier table\n",
    "\"\"\"\n",
    "\n",
    "outlier_records = []\n",
    "for feature_name, (lower_bound, higher_bound) in bounds.items():\n",
    "    for idx, val in spotify_df[feature_name].items():\n",
    "        if val < lower_bound or val > higher_bound:\n",
    "            outlier_records.append({\n",
    "                'artist'      : spotify_df.at[idx, 'artist'],\n",
    "                'track_name'  : spotify_df.at[idx, 'track_name'],\n",
    "                'feature'     : feature_name,\n",
    "                'value'       : val,\n",
    "                'lower_bound' : lower_bound,\n",
    "                'upper_bound' : higher_bound\n",
    "            })\n",
    "\n",
    "outliers_df = (\n",
    "    pd.DataFrame(outlier_records)\n",
    "      .drop_duplicates(subset=['artist','track_name','feature'])\n",
    "      .reset_index(drop=True)\n",
    ")\n",
    "outliers_df.index += 1\n",
    "outliers_df"
   ]
  },
  {
   "cell_type": "markdown",
   "id": "978fc178-da77-450d-86d8-f50021886418",
   "metadata": {},
   "source": [
    "## 3.3 Outlier Handling\n",
    "\n",
    "* **Detection Method:** Applied the 1.5 × IQR rule to every numeric feature and counted outliers per column.\n",
    "* **Audit Table:** Compiled a table listing each outlier’s track, feature name, actual value, and cutoff bounds.\n",
    "* **Handling Decision:** Recognized outliers as <u>valid data points</u> (e.g., long mixes, spoken-word tracks), not errors and <u>retained</u> them in the dataset.\n",
    "* **Action:** I’ve logged every outlier in the audit table for <U>my clarity</u> and will include all outlier records <u>unchanged</u> in my further analyses.\n",
    "\n",
    "**Insight:** Retaining genuine outliers ensures we capture all defining extremes that make a track a Top 50 hit.\n",
    "\n",
    "---"
   ]
  },
  {
   "cell_type": "markdown",
   "id": "8bf4f355-5e87-4966-b8b2-48206cfc39d9",
   "metadata": {},
   "source": [
    "## 4 Exploratory Data Analysis"
   ]
  },
  {
   "cell_type": "markdown",
   "id": "1e9e10fd-c160-4431-981c-870ea8810f8b",
   "metadata": {},
   "source": [
    "## 4.1 Basic Stats & Structure"
   ]
  },
  {
   "cell_type": "markdown",
   "id": "8f8b80e7-35fd-488e-9ef6-a6c6d43c7077",
   "metadata": {},
   "source": [
    "## **1) Basic Stats & Structure (Observations & Features):**\n",
    "\n",
    "### How many observations are there in this dataset?\n",
    "### How many features this dataset has?"
   ]
  },
  {
   "cell_type": "markdown",
   "id": "61fc8086-9673-49c9-9e9a-1161497fa233",
   "metadata": {},
   "source": [
    "#### 4.1.1 Basic Stats & Structure\n",
    "**Goal:**  \n",
    "Determine how many observations (rows) and features (columns) are in our dataset."
   ]
  },
  {
   "cell_type": "code",
   "execution_count": 66,
   "id": "fff6d2f3-078c-4b0a-aa91-05ded72437aa",
   "metadata": {},
   "outputs": [
    {
     "name": "stdout",
     "output_type": "stream",
     "text": [
      "Total tracks (observations): 50\n",
      "Total attributes (features): 16\n"
     ]
    }
   ],
   "source": [
    "num_tracks, num_attributes = spotify_df.shape\n",
    "\n",
    "print(f\"Total tracks (observations): {num_tracks}\")\n",
    "print(f\"Total attributes (features): {num_attributes}\")"
   ]
  },
  {
   "cell_type": "markdown",
   "id": "238f9fd2-eaab-4376-8281-aafb8c40eeb1",
   "metadata": {},
   "source": [
    "## 4.1.1 Basic Stats & Structure\n",
    "-  **Takeaway:** The dataset contains 50 tracks described by 16 attributes (features).\n",
    "\n",
    "---"
   ]
  },
  {
   "cell_type": "markdown",
   "id": "f225b9f5-7bd1-4c64-9fcb-f224acd402d4",
   "metadata": {},
   "source": [
    "## **2) Basic Stats & Structure (Categorical & Numeric):**\n",
    "\n",
    "### Which of the features are categorical?\n",
    "### Which of the features are numeric?"
   ]
  },
  {
   "cell_type": "markdown",
   "id": "bc260cf7-8198-46de-b303-c47d5793c5a2",
   "metadata": {},
   "source": [
    "#### 4.1.2 Feature Types Overview\n",
    "\n",
    "**Goal:**  \n",
    "Identify which columns in the dataset are categorical vs. numeric."
   ]
  },
  {
   "cell_type": "code",
   "execution_count": 23,
   "id": "c5fc3bbc-e0dc-469b-80aa-1dea72bee671",
   "metadata": {},
   "outputs": [
    {
     "name": "stdout",
     "output_type": "stream",
     "text": [
      "Categorical features: ['artist', 'album', 'track_name', 'track_id', 'genre']\n",
      "Numeric features: ['energy', 'danceability', 'key', 'loudness', 'acousticness', 'speechiness', 'instrumentalness', 'liveness', 'valence', 'tempo', 'duration_ms']\n"
     ]
    }
   ],
   "source": [
    "cat_cols = spotify_df.select_dtypes(include=['object']).columns.tolist()\n",
    "\n",
    "print(\"Categorical features:\", cat_cols)\n",
    "print(\"Numeric features:\", num_cols)"
   ]
  },
  {
   "cell_type": "markdown",
   "id": "72886f21-3597-4503-98fd-07d45beb25e4",
   "metadata": {},
   "source": [
    "## 4.1.2 Feature Types Overview\n",
    "**Results:**  \n",
    "- **Categorical features (5):** `artist`, `album`, `track_name`, `track_id`, `genre`  \n",
    "- **Numeric features (11):** `energy`, `danceability`, `key`, `loudness`, `acousticness`, `speechiness`, `instrumentalness`, `liveness`, `valence`, `tempo`, `duration_ms`  \n",
    "- **Total features:** 16\n",
    "\n",
    "---"
   ]
  },
  {
   "cell_type": "markdown",
   "id": "81977e40-bd79-49ca-9d2d-aa9d51f5ea1f",
   "metadata": {},
   "source": [
    "## 4.2 Artist & Album Checks"
   ]
  },
  {
   "cell_type": "markdown",
   "id": "f77701cf-953a-40f6-bca9-de7adedfe520",
   "metadata": {},
   "source": [
    "## **1) Artist & Album Checks (Multi-Track Artists):**\n",
    "\n",
    "### Are there any artists that have more than 1 popular track? If yes, which and how many?"
   ]
  },
  {
   "cell_type": "markdown",
   "id": "7a1c9040-faf3-4cad-9c36-41ddeb711046",
   "metadata": {},
   "source": [
    "#### 4.2.1 Multi-Track Artists\n",
    "\n",
    "**Goal:**  \n",
    "Identify which artists have more than one song in the Top 50."
   ]
  },
  {
   "cell_type": "code",
   "execution_count": 67,
   "id": "0140408e-0294-4003-a629-865909262727",
   "metadata": {},
   "outputs": [
    {
     "name": "stdout",
     "output_type": "stream",
     "text": [
      "artist\n",
      "Dua Lipa         3\n",
      "Billie Eilish    3\n",
      "Travis Scott     3\n",
      "Harry Styles     2\n",
      "Lewis Capaldi    2\n",
      "Justin Bieber    2\n",
      "Post Malone      2\n",
      "Name: count, dtype: int64\n"
     ]
    }
   ],
   "source": [
    "artist_counts = spotify_df['artist'].value_counts()\n",
    "multi_artist = artist_counts[artist_counts > 1]\n",
    "print(multi_artist)"
   ]
  },
  {
   "cell_type": "markdown",
   "id": "9b3ce930-9a01-489a-80c8-c6c02ffadf35",
   "metadata": {},
   "source": [
    "## 4.2.1 Multi-Track Artists\n",
    "**Insight:** <u>Seven</u> artists place multiple tracks in the Top 50. <u>Dua Lipa</u>, <u>Billie Eilish</u>, and <u>Travis Scott</u> each with three songs - highlighting their dominant presence in 2020’s hits. <u>Harry Styles</u>, <u>Lewis Capaldi</u>, <u>Justin Bieber</u>, and <u>Post Malone</u> each contribute two songs.\n",
    "\n",
    "---"
   ]
  },
  {
   "cell_type": "markdown",
   "id": "365c9e04-51c2-46f9-a477-fb24cfdc77dd",
   "metadata": {},
   "source": [
    "## **2) Artist & Album Checks (Most Popular Artist):**\n",
    "### Who was the most popular artist?"
   ]
  },
  {
   "cell_type": "markdown",
   "id": "ea271665-955e-4734-994d-3a03c97b2f92",
   "metadata": {},
   "source": [
    "#### 4.2.2 Most Popular Artist\n",
    "\n",
    "**Goal:**  \n",
    "Determine which artist appears most frequently among the Top 50 tracks."
   ]
  },
  {
   "cell_type": "code",
   "execution_count": 68,
   "id": "58bcfc16-b8b9-4887-ba38-b8bc40690dbb",
   "metadata": {},
   "outputs": [
    {
     "name": "stdout",
     "output_type": "stream",
     "text": [
      "artist\n",
      "Dua Lipa         3\n",
      "Billie Eilish    3\n",
      "Travis Scott     3\n",
      "Name: count, dtype: int64\n"
     ]
    }
   ],
   "source": [
    "max_count = artist_counts.max()\n",
    "most_pop_artist = artist_counts[artist_counts == max_count]\n",
    "print(most_pop_artist)"
   ]
  },
  {
   "cell_type": "markdown",
   "id": "760f10cb-ca28-428c-b24d-10f36a26145e",
   "metadata": {},
   "source": [
    "## 4.2.2 Most Popular Artist\n",
    "\n",
    "**Insight:** Ranked by <u>track count</u> in the Top 50, the most popular artists were <u>Dua Lipa</u>, <u>Billie Eilish</u>, and <u>Travis Scott</u>. Each with three hits - <u>there’s no single standout</u>.\n",
    "\n",
    "Note: This dataset lacks actual stream counts. To truly gauge popularity, we’d need to merge in streaming data.\n",
    "\n",
    "---"
   ]
  },
  {
   "cell_type": "markdown",
   "id": "45f9d1ec-f816-425d-8eb3-d0cc0f563707",
   "metadata": {},
   "source": [
    "## **3) Artist & Album Checks (Total Unique Artists):**\n",
    "### How many artists in total have their songs in the top 50?"
   ]
  },
  {
   "cell_type": "markdown",
   "id": "a86ed358-7671-46fd-9ab7-c82c7e9e0b7f",
   "metadata": {},
   "source": [
    "#### 4.2.3 Total Unique Artists\n",
    "\n",
    "**Goal:**  \n",
    "Count how many distinct artists have songs in the Top 50."
   ]
  },
  {
   "cell_type": "code",
   "execution_count": 27,
   "id": "9e02b7e8-00b5-4fef-8540-6ec965e77d1f",
   "metadata": {},
   "outputs": [
    {
     "name": "stdout",
     "output_type": "stream",
     "text": [
      "Total unique artists: 40\n"
     ]
    }
   ],
   "source": [
    "total_artists = spotify_df['artist'].nunique()\n",
    "print(f\"Total unique artists: {total_artists}\")"
   ]
  },
  {
   "cell_type": "markdown",
   "id": "a4cea5fd-d51b-4610-b583-e31680ccccd1",
   "metadata": {},
   "source": [
    "## 4.2.3 Total Unique Artists\n",
    "- **Takeaway:** 40 distinct artists.\n",
    "\n",
    "---"
   ]
  },
  {
   "cell_type": "markdown",
   "id": "c17905e5-64ed-496a-a2bc-3ec900a1e679",
   "metadata": {},
   "source": [
    "## **4) Artist & Album Checks (Multiple Top Tracks):**\n",
    "### Are there any albums that have more than 1 popular track? If yes, which and how many?"
   ]
  },
  {
   "cell_type": "markdown",
   "id": "cb6ccd1d-b09e-46e8-b0d2-589fee057759",
   "metadata": {},
   "source": [
    "#### 4.2.4 Albums with Multiple Top 50 Tracks\n",
    "\n",
    "**Goal:**  \n",
    "Determine which albums have more than one track in the Top 50 and count them. "
   ]
  },
  {
   "cell_type": "code",
   "execution_count": 29,
   "id": "499beedd-86ae-4059-9749-ac6a83e0bfc9",
   "metadata": {},
   "outputs": [
    {
     "name": "stdout",
     "output_type": "stream",
     "text": [
      "album\n",
      "Future Nostalgia        3\n",
      "Hollywood's Bleeding    2\n",
      "Fine Line               2\n",
      "Changes                 2\n",
      "Name: count, dtype: int64\n"
     ]
    }
   ],
   "source": [
    "album_counts = spotify_df['album'].value_counts()\n",
    "multi_album = album_counts[album_counts > 1]\n",
    "print(multi_album)"
   ]
  },
  {
   "cell_type": "markdown",
   "id": "4981b62b-3e4b-4b91-95d2-348d518b0301",
   "metadata": {},
   "source": [
    "## 4.2.4 Albums with Multiple Top 50 Tracks\n",
    "- **Takeaway:** <u>Four albums</u> place multiple tracks in the Top 50: <u>Future Nostalgia</u> leads with three records, while <u>Hollywood’s Bleeding</u>, <u>Fine Line</u>, and <u>Changes</u> each contribute two entries.\n",
    "\n",
    "---"
   ]
  },
  {
   "cell_type": "markdown",
   "id": "55da246c-b4ef-48a0-bf23-39fe941037ac",
   "metadata": {},
   "source": [
    "## **5) Artist & Album Checks (Total Unique Albums):**\n",
    "### How many albums in total have their songs in the top 50?"
   ]
  },
  {
   "cell_type": "markdown",
   "id": "e1149068-c538-4b8b-9853-8f5ac6b9a298",
   "metadata": {},
   "source": [
    "#### 4.2.5 Total Unique Albums\n",
    "\n",
    "**Goal:**  \n",
    "Count how many different albums are represented in the Top 50."
   ]
  },
  {
   "cell_type": "code",
   "execution_count": 30,
   "id": "1bc4ca0c-a6fe-479f-bf1c-cd8ea24e9195",
   "metadata": {},
   "outputs": [
    {
     "name": "stdout",
     "output_type": "stream",
     "text": [
      "Total unique albums: 45\n"
     ]
    }
   ],
   "source": [
    "total_albums = spotify_df['album'].nunique()\n",
    "print(f\"Total unique albums: {total_albums}\")"
   ]
  },
  {
   "cell_type": "markdown",
   "id": "9504c15f-b42c-47a4-b729-716ef6c7d38d",
   "metadata": {},
   "source": [
    "#### 4.2.5 Total Unique Albums\n",
    "- **Takeaway:** 45 unique albums appear in the Top 50.\n",
    "\n",
    "---"
   ]
  },
  {
   "cell_type": "markdown",
   "id": "dfe888ba-a791-4df3-952b-55ae894f050a",
   "metadata": {},
   "source": [
    "## 4.3 Track-Level Queries"
   ]
  },
  {
   "cell_type": "markdown",
   "id": "506dd779-d1e3-4301-9786-012ac8e66bc0",
   "metadata": {},
   "source": [
    "## **1) Track-Level Queries (High Danceability):**\n",
    "### Which tracks have a danceability score above 0.7?"
   ]
  },
  {
   "cell_type": "markdown",
   "id": "edeac76c-6d37-4b3b-8150-ee2d94782a2b",
   "metadata": {},
   "source": [
    "#### 4.3.1 High Danceability Tracks\n",
    "\n",
    "**Goal:**  \n",
    "Identify which tracks have a danceability score above 0.7."
   ]
  },
  {
   "cell_type": "code",
   "execution_count": 31,
   "id": "6e4ce342-0405-4e3e-ace4-16590a8f03cf",
   "metadata": {},
   "outputs": [
    {
     "data": {
      "text/html": [
       "<div>\n",
       "<style scoped>\n",
       "    .dataframe tbody tr th:only-of-type {\n",
       "        vertical-align: middle;\n",
       "    }\n",
       "\n",
       "    .dataframe tbody tr th {\n",
       "        vertical-align: top;\n",
       "    }\n",
       "\n",
       "    .dataframe thead th {\n",
       "        text-align: right;\n",
       "    }\n",
       "</style>\n",
       "<table border=\"1\" class=\"dataframe\">\n",
       "  <thead>\n",
       "    <tr style=\"text-align: right;\">\n",
       "      <th></th>\n",
       "      <th>artist</th>\n",
       "      <th>track_name</th>\n",
       "      <th>danceability</th>\n",
       "    </tr>\n",
       "  </thead>\n",
       "  <tbody>\n",
       "    <tr>\n",
       "      <th>1</th>\n",
       "      <td>Cardi B</td>\n",
       "      <td>WAP (feat. Megan Thee Stallion)</td>\n",
       "      <td>0.935</td>\n",
       "    </tr>\n",
       "    <tr>\n",
       "      <th>2</th>\n",
       "      <td>Roddy Ricch</td>\n",
       "      <td>The Box</td>\n",
       "      <td>0.896</td>\n",
       "    </tr>\n",
       "    <tr>\n",
       "      <th>3</th>\n",
       "      <td>Regard</td>\n",
       "      <td>Ride It</td>\n",
       "      <td>0.880</td>\n",
       "    </tr>\n",
       "    <tr>\n",
       "      <th>4</th>\n",
       "      <td>Surfaces</td>\n",
       "      <td>Sunday Best</td>\n",
       "      <td>0.878</td>\n",
       "    </tr>\n",
       "    <tr>\n",
       "      <th>5</th>\n",
       "      <td>BENEE</td>\n",
       "      <td>Supalonely (feat. Gus Dapperton)</td>\n",
       "      <td>0.862</td>\n",
       "    </tr>\n",
       "    <tr>\n",
       "      <th>6</th>\n",
       "      <td>Travis Scott</td>\n",
       "      <td>goosebumps</td>\n",
       "      <td>0.841</td>\n",
       "    </tr>\n",
       "    <tr>\n",
       "      <th>7</th>\n",
       "      <td>Travis Scott</td>\n",
       "      <td>SICKO MODE</td>\n",
       "      <td>0.834</td>\n",
       "    </tr>\n",
       "    <tr>\n",
       "      <th>8</th>\n",
       "      <td>Drake</td>\n",
       "      <td>Toosie Slide</td>\n",
       "      <td>0.830</td>\n",
       "    </tr>\n",
       "    <tr>\n",
       "      <th>9</th>\n",
       "      <td>Tones And I</td>\n",
       "      <td>Dance Monkey</td>\n",
       "      <td>0.825</td>\n",
       "    </tr>\n",
       "    <tr>\n",
       "      <th>10</th>\n",
       "      <td>Eminem</td>\n",
       "      <td>Godzilla (feat. Juice WRLD)</td>\n",
       "      <td>0.808</td>\n",
       "    </tr>\n",
       "    <tr>\n",
       "      <th>11</th>\n",
       "      <td>Justin Bieber</td>\n",
       "      <td>Intentions (feat. Quavo)</td>\n",
       "      <td>0.806</td>\n",
       "    </tr>\n",
       "    <tr>\n",
       "      <th>12</th>\n",
       "      <td>KAROL G</td>\n",
       "      <td>Tusa</td>\n",
       "      <td>0.803</td>\n",
       "    </tr>\n",
       "    <tr>\n",
       "      <th>13</th>\n",
       "      <td>Future</td>\n",
       "      <td>Life Is Good (feat. Drake)</td>\n",
       "      <td>0.795</td>\n",
       "    </tr>\n",
       "    <tr>\n",
       "      <th>14</th>\n",
       "      <td>Dua Lipa</td>\n",
       "      <td>Don't Start Now</td>\n",
       "      <td>0.793</td>\n",
       "    </tr>\n",
       "    <tr>\n",
       "      <th>15</th>\n",
       "      <td>Topic</td>\n",
       "      <td>Breaking Me</td>\n",
       "      <td>0.789</td>\n",
       "    </tr>\n",
       "    <tr>\n",
       "      <th>16</th>\n",
       "      <td>Doja Cat</td>\n",
       "      <td>Say So</td>\n",
       "      <td>0.787</td>\n",
       "    </tr>\n",
       "    <tr>\n",
       "      <th>17</th>\n",
       "      <td>SAINt JHN</td>\n",
       "      <td>Roses - Imanbek Remix</td>\n",
       "      <td>0.785</td>\n",
       "    </tr>\n",
       "    <tr>\n",
       "      <th>18</th>\n",
       "      <td>Trevor Daniel</td>\n",
       "      <td>Falling</td>\n",
       "      <td>0.784</td>\n",
       "    </tr>\n",
       "    <tr>\n",
       "      <th>19</th>\n",
       "      <td>Maluma</td>\n",
       "      <td>Hawái</td>\n",
       "      <td>0.783</td>\n",
       "    </tr>\n",
       "    <tr>\n",
       "      <th>20</th>\n",
       "      <td>Lil Mosey</td>\n",
       "      <td>Blueberry Faygo</td>\n",
       "      <td>0.774</td>\n",
       "    </tr>\n",
       "    <tr>\n",
       "      <th>21</th>\n",
       "      <td>Jawsh 685</td>\n",
       "      <td>Savage Love (Laxed - Siren Beat)</td>\n",
       "      <td>0.767</td>\n",
       "    </tr>\n",
       "    <tr>\n",
       "      <th>22</th>\n",
       "      <td>Maroon 5</td>\n",
       "      <td>Memories</td>\n",
       "      <td>0.764</td>\n",
       "    </tr>\n",
       "    <tr>\n",
       "      <th>23</th>\n",
       "      <td>Shawn Mendes</td>\n",
       "      <td>Señorita</td>\n",
       "      <td>0.759</td>\n",
       "    </tr>\n",
       "    <tr>\n",
       "      <th>24</th>\n",
       "      <td>Post Malone</td>\n",
       "      <td>Sunflower - Spider-Man: Into the Spider-Verse</td>\n",
       "      <td>0.755</td>\n",
       "    </tr>\n",
       "    <tr>\n",
       "      <th>25</th>\n",
       "      <td>BTS</td>\n",
       "      <td>Dynamite</td>\n",
       "      <td>0.746</td>\n",
       "    </tr>\n",
       "    <tr>\n",
       "      <th>26</th>\n",
       "      <td>DaBaby</td>\n",
       "      <td>ROCKSTAR (feat. Roddy Ricch)</td>\n",
       "      <td>0.746</td>\n",
       "    </tr>\n",
       "    <tr>\n",
       "      <th>27</th>\n",
       "      <td>Dua Lipa</td>\n",
       "      <td>Break My Heart</td>\n",
       "      <td>0.730</td>\n",
       "    </tr>\n",
       "    <tr>\n",
       "      <th>28</th>\n",
       "      <td>Powfu</td>\n",
       "      <td>death bed (coffee for your head)</td>\n",
       "      <td>0.726</td>\n",
       "    </tr>\n",
       "    <tr>\n",
       "      <th>29</th>\n",
       "      <td>Black Eyed Peas</td>\n",
       "      <td>RITMO (Bad Boys For Life)</td>\n",
       "      <td>0.723</td>\n",
       "    </tr>\n",
       "    <tr>\n",
       "      <th>30</th>\n",
       "      <td>THE SCOTTS</td>\n",
       "      <td>THE SCOTTS</td>\n",
       "      <td>0.716</td>\n",
       "    </tr>\n",
       "    <tr>\n",
       "      <th>31</th>\n",
       "      <td>Billie Eilish</td>\n",
       "      <td>everything i wanted</td>\n",
       "      <td>0.704</td>\n",
       "    </tr>\n",
       "    <tr>\n",
       "      <th>32</th>\n",
       "      <td>Billie Eilish</td>\n",
       "      <td>bad guy</td>\n",
       "      <td>0.701</td>\n",
       "    </tr>\n",
       "  </tbody>\n",
       "</table>\n",
       "</div>"
      ],
      "text/plain": [
       "             artist                                     track_name  \\\n",
       "1           Cardi B                WAP (feat. Megan Thee Stallion)   \n",
       "2       Roddy Ricch                                        The Box   \n",
       "3            Regard                                        Ride It   \n",
       "4          Surfaces                                    Sunday Best   \n",
       "5             BENEE               Supalonely (feat. Gus Dapperton)   \n",
       "6      Travis Scott                                     goosebumps   \n",
       "7      Travis Scott                                     SICKO MODE   \n",
       "8             Drake                                   Toosie Slide   \n",
       "9       Tones And I                                   Dance Monkey   \n",
       "10           Eminem                    Godzilla (feat. Juice WRLD)   \n",
       "11    Justin Bieber                       Intentions (feat. Quavo)   \n",
       "12          KAROL G                                           Tusa   \n",
       "13           Future                     Life Is Good (feat. Drake)   \n",
       "14         Dua Lipa                                Don't Start Now   \n",
       "15            Topic                                    Breaking Me   \n",
       "16         Doja Cat                                         Say So   \n",
       "17        SAINt JHN                          Roses - Imanbek Remix   \n",
       "18    Trevor Daniel                                        Falling   \n",
       "19           Maluma                                          Hawái   \n",
       "20        Lil Mosey                                Blueberry Faygo   \n",
       "21        Jawsh 685               Savage Love (Laxed - Siren Beat)   \n",
       "22         Maroon 5                                       Memories   \n",
       "23     Shawn Mendes                                       Señorita   \n",
       "24      Post Malone  Sunflower - Spider-Man: Into the Spider-Verse   \n",
       "25              BTS                                       Dynamite   \n",
       "26           DaBaby                   ROCKSTAR (feat. Roddy Ricch)   \n",
       "27         Dua Lipa                                 Break My Heart   \n",
       "28            Powfu               death bed (coffee for your head)   \n",
       "29  Black Eyed Peas                      RITMO (Bad Boys For Life)   \n",
       "30       THE SCOTTS                                     THE SCOTTS   \n",
       "31    Billie Eilish                            everything i wanted   \n",
       "32    Billie Eilish                                        bad guy   \n",
       "\n",
       "    danceability  \n",
       "1          0.935  \n",
       "2          0.896  \n",
       "3          0.880  \n",
       "4          0.878  \n",
       "5          0.862  \n",
       "6          0.841  \n",
       "7          0.834  \n",
       "8          0.830  \n",
       "9          0.825  \n",
       "10         0.808  \n",
       "11         0.806  \n",
       "12         0.803  \n",
       "13         0.795  \n",
       "14         0.793  \n",
       "15         0.789  \n",
       "16         0.787  \n",
       "17         0.785  \n",
       "18         0.784  \n",
       "19         0.783  \n",
       "20         0.774  \n",
       "21         0.767  \n",
       "22         0.764  \n",
       "23         0.759  \n",
       "24         0.755  \n",
       "25         0.746  \n",
       "26         0.746  \n",
       "27         0.730  \n",
       "28         0.726  \n",
       "29         0.723  \n",
       "30         0.716  \n",
       "31         0.704  \n",
       "32         0.701  "
      ]
     },
     "execution_count": 31,
     "metadata": {},
     "output_type": "execute_result"
    }
   ],
   "source": [
    "high_dance_sorted = (\n",
    "    spotify_df[spotify_df['danceability'] > 0.7]\n",
    "      [['artist','track_name','danceability']]\n",
    "      .sort_values('danceability', ascending=False)\n",
    "      .reset_index(drop=True)\n",
    ")\n",
    "high_dance_sorted.index = high_dance_sorted.index + 1\n",
    "high_dance_sorted"
   ]
  },
  {
   "cell_type": "markdown",
   "id": "bc4d639e-82f2-4219-83e1-57eb04f0095b",
   "metadata": {},
   "source": [
    "## 4.3.1 High Danceability Tracks\n",
    "\n",
    "- **Takeaway:** <u>32 tracks</u> exceed a danceability of 0.7. Cardi B’s “WAP (feat. Megan Thee Stallion)” tops the chart with the highest danceability score at <u>0.935</u>. Billie Eilish’s “bad guy” marks the lower edge of this group at <u>0.701</u>.\n",
    "\n",
    "---"
   ]
  },
  {
   "cell_type": "markdown",
   "id": "23247916-da9d-466b-8aba-990cfcaf771f",
   "metadata": {},
   "source": [
    "## **2) Track-Level Queries (Low Danceability):**\n",
    "### Which tracks have a danceability score below 0.4?"
   ]
  },
  {
   "cell_type": "markdown",
   "id": "b2ea075b-36a8-4a7c-aa28-27f1e7131e52",
   "metadata": {},
   "source": [
    "#### 4.3.2 Low Danceability Tracks\n",
    "\n",
    "**Goal:**  \n",
    "Identify which tracks have a danceability score below 0.4.  \n"
   ]
  },
  {
   "cell_type": "code",
   "execution_count": 32,
   "id": "be62f5e3-60dd-48ec-a174-729a3ea03318",
   "metadata": {},
   "outputs": [
    {
     "data": {
      "text/html": [
       "<div>\n",
       "<style scoped>\n",
       "    .dataframe tbody tr th:only-of-type {\n",
       "        vertical-align: middle;\n",
       "    }\n",
       "\n",
       "    .dataframe tbody tr th {\n",
       "        vertical-align: top;\n",
       "    }\n",
       "\n",
       "    .dataframe thead th {\n",
       "        text-align: right;\n",
       "    }\n",
       "</style>\n",
       "<table border=\"1\" class=\"dataframe\">\n",
       "  <thead>\n",
       "    <tr style=\"text-align: right;\">\n",
       "      <th></th>\n",
       "      <th>artist</th>\n",
       "      <th>track_name</th>\n",
       "      <th>danceability</th>\n",
       "    </tr>\n",
       "  </thead>\n",
       "  <tbody>\n",
       "    <tr>\n",
       "      <th>1</th>\n",
       "      <td>Billie Eilish</td>\n",
       "      <td>lovely (with Khalid)</td>\n",
       "      <td>0.351</td>\n",
       "    </tr>\n",
       "  </tbody>\n",
       "</table>\n",
       "</div>"
      ],
      "text/plain": [
       "          artist            track_name  danceability\n",
       "1  Billie Eilish  lovely (with Khalid)         0.351"
      ]
     },
     "execution_count": 32,
     "metadata": {},
     "output_type": "execute_result"
    }
   ],
   "source": [
    "low_dance_sorted= (\n",
    "    spotify_df[spotify_df['danceability'] < 0.4]\n",
    "      [['artist','track_name','danceability']]\n",
    "      .reset_index(drop=True)\n",
    ")\n",
    "low_dance_sorted.index = low_dance_sorted.index + 1\n",
    "low_dance_sorted"
   ]
  },
  {
   "cell_type": "markdown",
   "id": "ca93ec66-e1a7-4331-add3-fb6f9ce4a7be",
   "metadata": {},
   "source": [
    "## 4.3.2 Low Danceability Tracks\n",
    "- **Takeaway:** Only <u>one track</u> Billie Eilish’s “lovely (with Khalid)” has a danceability below 0.4 (0.351).\n",
    "---"
   ]
  },
  {
   "cell_type": "markdown",
   "id": "670d8713-6f23-4e97-8d2a-f3230ea4b5bb",
   "metadata": {},
   "source": [
    "## **3) Track-Level Queries (Loudest Tracks):**\n",
    "### Which tracks have their loudness above -5?"
   ]
  },
  {
   "cell_type": "markdown",
   "id": "a031b958-afb9-4a34-a6fd-339a80975db0",
   "metadata": {},
   "source": [
    "#### 4.3.3 Loudest Tracks\n",
    "\n",
    "**Goal:**  \n",
    "Identify which tracks play louder than -5 dB in the dataset.  "
   ]
  },
  {
   "cell_type": "code",
   "execution_count": 33,
   "id": "d70c6c5b-500b-44ec-96a3-9b2d466536ea",
   "metadata": {},
   "outputs": [
    {
     "data": {
      "text/html": [
       "<div>\n",
       "<style scoped>\n",
       "    .dataframe tbody tr th:only-of-type {\n",
       "        vertical-align: middle;\n",
       "    }\n",
       "\n",
       "    .dataframe tbody tr th {\n",
       "        vertical-align: top;\n",
       "    }\n",
       "\n",
       "    .dataframe thead th {\n",
       "        text-align: right;\n",
       "    }\n",
       "</style>\n",
       "<table border=\"1\" class=\"dataframe\">\n",
       "  <thead>\n",
       "    <tr style=\"text-align: right;\">\n",
       "      <th></th>\n",
       "      <th>artist</th>\n",
       "      <th>track_name</th>\n",
       "      <th>loudness</th>\n",
       "    </tr>\n",
       "  </thead>\n",
       "  <tbody>\n",
       "    <tr>\n",
       "      <th>1</th>\n",
       "      <td>KAROL G</td>\n",
       "      <td>Tusa</td>\n",
       "      <td>-3.280</td>\n",
       "    </tr>\n",
       "    <tr>\n",
       "      <th>2</th>\n",
       "      <td>Travis Scott</td>\n",
       "      <td>goosebumps</td>\n",
       "      <td>-3.370</td>\n",
       "    </tr>\n",
       "    <tr>\n",
       "      <th>3</th>\n",
       "      <td>Dua Lipa</td>\n",
       "      <td>Break My Heart</td>\n",
       "      <td>-3.434</td>\n",
       "    </tr>\n",
       "    <tr>\n",
       "      <th>4</th>\n",
       "      <td>Maluma</td>\n",
       "      <td>Hawái</td>\n",
       "      <td>-3.454</td>\n",
       "    </tr>\n",
       "    <tr>\n",
       "      <th>5</th>\n",
       "      <td>Post Malone</td>\n",
       "      <td>Circles</td>\n",
       "      <td>-3.497</td>\n",
       "    </tr>\n",
       "    <tr>\n",
       "      <th>6</th>\n",
       "      <td>24kGoldn</td>\n",
       "      <td>Mood (feat. iann dior)</td>\n",
       "      <td>-3.558</td>\n",
       "    </tr>\n",
       "    <tr>\n",
       "      <th>7</th>\n",
       "      <td>Harry Styles</td>\n",
       "      <td>Adore You</td>\n",
       "      <td>-3.675</td>\n",
       "    </tr>\n",
       "    <tr>\n",
       "      <th>8</th>\n",
       "      <td>Travis Scott</td>\n",
       "      <td>SICKO MODE</td>\n",
       "      <td>-3.714</td>\n",
       "    </tr>\n",
       "    <tr>\n",
       "      <th>9</th>\n",
       "      <td>Dua Lipa</td>\n",
       "      <td>Physical</td>\n",
       "      <td>-3.756</td>\n",
       "    </tr>\n",
       "    <tr>\n",
       "      <th>10</th>\n",
       "      <td>Lady Gaga</td>\n",
       "      <td>Rain On Me (with Ariana Grande)</td>\n",
       "      <td>-3.764</td>\n",
       "    </tr>\n",
       "    <tr>\n",
       "      <th>11</th>\n",
       "      <td>Bad Bunny</td>\n",
       "      <td>Safaera</td>\n",
       "      <td>-4.074</td>\n",
       "    </tr>\n",
       "    <tr>\n",
       "      <th>12</th>\n",
       "      <td>Harry Styles</td>\n",
       "      <td>Watermelon Sugar</td>\n",
       "      <td>-4.209</td>\n",
       "    </tr>\n",
       "    <tr>\n",
       "      <th>13</th>\n",
       "      <td>Regard</td>\n",
       "      <td>Ride It</td>\n",
       "      <td>-4.258</td>\n",
       "    </tr>\n",
       "    <tr>\n",
       "      <th>14</th>\n",
       "      <td>Post Malone</td>\n",
       "      <td>Sunflower - Spider-Man: Into the Spider-Verse</td>\n",
       "      <td>-4.368</td>\n",
       "    </tr>\n",
       "    <tr>\n",
       "      <th>15</th>\n",
       "      <td>BTS</td>\n",
       "      <td>Dynamite</td>\n",
       "      <td>-4.410</td>\n",
       "    </tr>\n",
       "    <tr>\n",
       "      <th>16</th>\n",
       "      <td>Dua Lipa</td>\n",
       "      <td>Don't Start Now</td>\n",
       "      <td>-4.521</td>\n",
       "    </tr>\n",
       "    <tr>\n",
       "      <th>17</th>\n",
       "      <td>Doja Cat</td>\n",
       "      <td>Say So</td>\n",
       "      <td>-4.577</td>\n",
       "    </tr>\n",
       "    <tr>\n",
       "      <th>18</th>\n",
       "      <td>BENEE</td>\n",
       "      <td>Supalonely (feat. Gus Dapperton)</td>\n",
       "      <td>-4.746</td>\n",
       "    </tr>\n",
       "    <tr>\n",
       "      <th>19</th>\n",
       "      <td>Lewis Capaldi</td>\n",
       "      <td>Before You Go</td>\n",
       "      <td>-4.858</td>\n",
       "    </tr>\n",
       "  </tbody>\n",
       "</table>\n",
       "</div>"
      ],
      "text/plain": [
       "           artist                                     track_name  loudness\n",
       "1         KAROL G                                           Tusa    -3.280\n",
       "2    Travis Scott                                     goosebumps    -3.370\n",
       "3        Dua Lipa                                 Break My Heart    -3.434\n",
       "4          Maluma                                          Hawái    -3.454\n",
       "5     Post Malone                                        Circles    -3.497\n",
       "6        24kGoldn                         Mood (feat. iann dior)    -3.558\n",
       "7    Harry Styles                                      Adore You    -3.675\n",
       "8    Travis Scott                                     SICKO MODE    -3.714\n",
       "9        Dua Lipa                                       Physical    -3.756\n",
       "10      Lady Gaga                Rain On Me (with Ariana Grande)    -3.764\n",
       "11      Bad Bunny                                        Safaera    -4.074\n",
       "12   Harry Styles                               Watermelon Sugar    -4.209\n",
       "13         Regard                                        Ride It    -4.258\n",
       "14    Post Malone  Sunflower - Spider-Man: Into the Spider-Verse    -4.368\n",
       "15            BTS                                       Dynamite    -4.410\n",
       "16       Dua Lipa                                Don't Start Now    -4.521\n",
       "17       Doja Cat                                         Say So    -4.577\n",
       "18          BENEE               Supalonely (feat. Gus Dapperton)    -4.746\n",
       "19  Lewis Capaldi                                  Before You Go    -4.858"
      ]
     },
     "execution_count": 33,
     "metadata": {},
     "output_type": "execute_result"
    }
   ],
   "source": [
    "high_loud_sorted = (\n",
    "    spotify_df[spotify_df['loudness'] > -5]\n",
    "      [['artist','track_name','loudness']]\n",
    "      .sort_values('loudness', ascending=False)\n",
    "      .reset_index(drop=True)\n",
    ")\n",
    "high_loud_sorted.index = high_loud_sorted.index + 1\n",
    "high_loud_sorted"
   ]
  },
  {
   "cell_type": "markdown",
   "id": "cdf515dd-2024-4ac5-b5d0-bcd6ab366aba",
   "metadata": {},
   "source": [
    "## 4.3.3 Loudest Tracks\n",
    "- **Takeaway:** <u>19 tracks</u> exceed the -5 dB threshold. The loudest song is KAROL G’s “Tusa” at -3.280 dB.\n",
    "\n",
    "---"
   ]
  },
  {
   "cell_type": "markdown",
   "id": "a58c3e24-7ba4-4d56-b7f9-20ecce48a3cb",
   "metadata": {},
   "source": [
    "## **4) Track-Level Queries (Softest Tracks):**\n",
    "### Which tracks have their loudness below -8?"
   ]
  },
  {
   "cell_type": "markdown",
   "id": "9d51ae39-290a-42d4-ac35-e470e594f2c1",
   "metadata": {},
   "source": [
    "#### 4.3.4 Softest Tracks (Loudness < -8 dB)\n",
    "\n",
    "**Goal:**  \n",
    "Identify which tracks fall below -8 dB in loudness."
   ]
  },
  {
   "cell_type": "code",
   "execution_count": 34,
   "id": "63b2d458-8c19-4710-a08f-6bac71a9521f",
   "metadata": {},
   "outputs": [
    {
     "data": {
      "text/html": [
       "<div>\n",
       "<style scoped>\n",
       "    .dataframe tbody tr th:only-of-type {\n",
       "        vertical-align: middle;\n",
       "    }\n",
       "\n",
       "    .dataframe tbody tr th {\n",
       "        vertical-align: top;\n",
       "    }\n",
       "\n",
       "    .dataframe thead th {\n",
       "        text-align: right;\n",
       "    }\n",
       "</style>\n",
       "<table border=\"1\" class=\"dataframe\">\n",
       "  <thead>\n",
       "    <tr style=\"text-align: right;\">\n",
       "      <th></th>\n",
       "      <th>artist</th>\n",
       "      <th>track_name</th>\n",
       "      <th>loudness</th>\n",
       "    </tr>\n",
       "  </thead>\n",
       "  <tbody>\n",
       "    <tr>\n",
       "      <th>1</th>\n",
       "      <td>Billie Eilish</td>\n",
       "      <td>everything i wanted</td>\n",
       "      <td>-14.454</td>\n",
       "    </tr>\n",
       "    <tr>\n",
       "      <th>2</th>\n",
       "      <td>Billie Eilish</td>\n",
       "      <td>bad guy</td>\n",
       "      <td>-10.965</td>\n",
       "    </tr>\n",
       "    <tr>\n",
       "      <th>3</th>\n",
       "      <td>Billie Eilish</td>\n",
       "      <td>lovely (with Khalid)</td>\n",
       "      <td>-10.109</td>\n",
       "    </tr>\n",
       "    <tr>\n",
       "      <th>4</th>\n",
       "      <td>JP Saxe</td>\n",
       "      <td>If the World Was Ending - feat. Julia Michaels</td>\n",
       "      <td>-10.086</td>\n",
       "    </tr>\n",
       "    <tr>\n",
       "      <th>5</th>\n",
       "      <td>Drake</td>\n",
       "      <td>Toosie Slide</td>\n",
       "      <td>-8.820</td>\n",
       "    </tr>\n",
       "    <tr>\n",
       "      <th>6</th>\n",
       "      <td>Powfu</td>\n",
       "      <td>death bed (coffee for your head)</td>\n",
       "      <td>-8.765</td>\n",
       "    </tr>\n",
       "    <tr>\n",
       "      <th>7</th>\n",
       "      <td>Travis Scott</td>\n",
       "      <td>HIGHEST IN THE ROOM</td>\n",
       "      <td>-8.764</td>\n",
       "    </tr>\n",
       "    <tr>\n",
       "      <th>8</th>\n",
       "      <td>Trevor Daniel</td>\n",
       "      <td>Falling</td>\n",
       "      <td>-8.756</td>\n",
       "    </tr>\n",
       "    <tr>\n",
       "      <th>9</th>\n",
       "      <td>Jawsh 685</td>\n",
       "      <td>Savage Love (Laxed - Siren Beat)</td>\n",
       "      <td>-8.520</td>\n",
       "    </tr>\n",
       "  </tbody>\n",
       "</table>\n",
       "</div>"
      ],
      "text/plain": [
       "          artist                                      track_name  loudness\n",
       "1  Billie Eilish                             everything i wanted   -14.454\n",
       "2  Billie Eilish                                         bad guy   -10.965\n",
       "3  Billie Eilish                            lovely (with Khalid)   -10.109\n",
       "4        JP Saxe  If the World Was Ending - feat. Julia Michaels   -10.086\n",
       "5          Drake                                    Toosie Slide    -8.820\n",
       "6          Powfu                death bed (coffee for your head)    -8.765\n",
       "7   Travis Scott                             HIGHEST IN THE ROOM    -8.764\n",
       "8  Trevor Daniel                                         Falling    -8.756\n",
       "9      Jawsh 685                Savage Love (Laxed - Siren Beat)    -8.520"
      ]
     },
     "execution_count": 34,
     "metadata": {},
     "output_type": "execute_result"
    }
   ],
   "source": [
    "low_loud_sorted = (\n",
    "    spotify_df[spotify_df['loudness'] < -8]\n",
    "      [['artist','track_name','loudness']]\n",
    "      .sort_values('loudness', ascending=True)\n",
    "      .reset_index(drop=True)\n",
    ")\n",
    "low_loud_sorted.index = low_loud_sorted.index + 1\n",
    "low_loud_sorted"
   ]
  },
  {
   "cell_type": "markdown",
   "id": "d6a43861-3c44-490c-b87f-adc57ce4982a",
   "metadata": {},
   "source": [
    "## 4.3.4 Softest Tracks\n",
    "**Takeaway:** <u>9 tracks</u> fall below -8 dB. Softest is Billie Eilish’s “everything i wanted” (-14.454 dB).\n",
    "\n",
    "---"
   ]
  },
  {
   "cell_type": "markdown",
   "id": "99034bbf-f9d1-41d5-b35f-7532cbbf2ce8",
   "metadata": {},
   "source": [
    "## **5) Track-Level Queries (Longest Track):**\n",
    "### Which track is the longest?"
   ]
  },
  {
   "cell_type": "markdown",
   "id": "7f032c48-b3bc-4438-89c5-fd99ddff3266",
   "metadata": {},
   "source": [
    "#### 4.3.5 Longest Track\n",
    "\n",
    "**Goal:**  \n",
    "Find the longest track and display its duration in minutes : seconds instead of milliseconds."
   ]
  },
  {
   "cell_type": "code",
   "execution_count": 35,
   "id": "f6fa1813-2a28-4195-b73d-ff34939ef7a6",
   "metadata": {},
   "outputs": [
    {
     "name": "stdout",
     "output_type": "stream",
     "text": [
      "Longest track: Travis Scott - SICKO MODE (5:12)\n"
     ]
    }
   ],
   "source": [
    "longest = spotify_df.loc[\n",
    "    spotify_df['duration_ms'].idxmax(),\n",
    "    ['artist', 'track_name', 'duration_ms']\n",
    "]\n",
    "\n",
    "total_seconds = longest['duration_ms'] // 1000\n",
    "minutes, seconds = divmod(total_seconds, 60)\n",
    "print(f\"Longest track: {longest['artist']} - {longest['track_name']} \"\n",
    "      f\"({minutes}:{seconds:02d})\")"
   ]
  },
  {
   "cell_type": "markdown",
   "id": "aab49926-5a6f-4501-8a7d-f49ee245bd6e",
   "metadata": {},
   "source": [
    "## 4.3.5 Longest Track\n",
    "* **Takeaway:** The longest track is Travis Scott’s “SICKO MODE” at <u>5 minutes 12 seconds</u>.\n",
    "\n",
    "---"
   ]
  },
  {
   "cell_type": "markdown",
   "id": "2181ec69-59e9-423e-b430-d3226dd2f325",
   "metadata": {},
   "source": [
    "## **6) Track-Level Queries (Shortest Track):**\n",
    "### Which track is the shortest?"
   ]
  },
  {
   "cell_type": "markdown",
   "id": "a25d7a3a-9b03-47a5-b76d-02f54916c262",
   "metadata": {},
   "source": [
    "#### 4.3.6 Shortest Track\n",
    "\n",
    "**Goal:**  \n",
    "Identify which track in the Top 50 dataset has the shortest duration."
   ]
  },
  {
   "cell_type": "code",
   "execution_count": 36,
   "id": "d17204ee-0f2d-449e-992b-06ebb74ceb19",
   "metadata": {},
   "outputs": [
    {
     "name": "stdout",
     "output_type": "stream",
     "text": [
      "Shortest track: 24kGoldn - Mood (feat. iann dior) (2:20)\n"
     ]
    }
   ],
   "source": [
    "shortest = spotify_df.loc[\n",
    "    spotify_df['duration_ms'].idxmin(),\n",
    "    ['artist', 'track_name', 'duration_ms']\n",
    "]\n",
    "\n",
    "total_seconds = shortest['duration_ms'] // 1000\n",
    "minutes, seconds = divmod(total_seconds, 60)\n",
    "print(f\"Shortest track: {shortest['artist']} - {shortest['track_name']} \"\n",
    "      f\"({minutes}:{seconds:02d})\")"
   ]
  },
  {
   "cell_type": "markdown",
   "id": "340ef505-7171-49e4-b204-9bd2b1718545",
   "metadata": {},
   "source": [
    "## 4.3.6 Shortest Track\n",
    "- **Takeaway:** The shortest track is 24kGoldn - Mood (feat. iann dior) at <u>2 minutes 20 seconds</u>.\n",
    "\n",
    "---  "
   ]
  },
  {
   "cell_type": "markdown",
   "id": "d1562c51-b179-41bd-87d8-b6b76322b665",
   "metadata": {},
   "source": [
    "## 4.4 Genre Breakdown"
   ]
  },
  {
   "cell_type": "markdown",
   "id": "158bdf0c-feb4-481e-98f3-6eec8899bf8e",
   "metadata": {},
   "source": [
    "## **1) Genre Breakdown (Most Popular):**\n",
    "### Which genre is the most popular?"
   ]
  },
  {
   "cell_type": "markdown",
   "id": "d0a4c9e8-59c6-48f6-be94-e288af24ceb8",
   "metadata": {},
   "source": [
    "#### 4.4.1 Most Popular Genre\n",
    "\n",
    "**Goal:**  \n",
    "Determine which genre appears most frequently among the Top 50 tracks."
   ]
  },
  {
   "cell_type": "code",
   "execution_count": 37,
   "id": "e8e07820-e637-4e6c-807f-90e1b41e8a42",
   "metadata": {},
   "outputs": [
    {
     "name": "stdout",
     "output_type": "stream",
     "text": [
      "Most popular genre: Pop (14 tracks)\n"
     ]
    }
   ],
   "source": [
    "genre_counts = spotify_df['genre'].value_counts()\n",
    "most_pop_genre = genre_counts.idxmax()\n",
    "count = genre_counts.max()\n",
    "print(f\"Most popular genre: {most_pop_genre} ({count} tracks)\")"
   ]
  },
  {
   "cell_type": "markdown",
   "id": "e45d4020-4d02-4557-877c-b94a133ea731",
   "metadata": {},
   "source": [
    "## 4.4.1 Most Popular Genre\n",
    "- **Takeaway:** Ranked by number of enteries in the Top 50, <u>Pop</u> comes out as most popular genre.\n",
    "---  "
   ]
  },
  {
   "cell_type": "markdown",
   "id": "7d89ded6-378b-4207-b9d2-0ad3b5ce81bc",
   "metadata": {},
   "source": [
    "## **2) Genre Breakdown (Single-Song):**\n",
    "### Which genres have just one song on the top 50?"
   ]
  },
  {
   "cell_type": "markdown",
   "id": "3239d6a2-4240-41de-908e-6e0eaf2ea8ab",
   "metadata": {},
   "source": [
    "#### 4.4.2 Single-Song Genres\n",
    "\n",
    "**Goal:**  \n",
    "Find all genres that appear exactly once in the Top 50 dataset."
   ]
  },
  {
   "cell_type": "code",
   "execution_count": 38,
   "id": "c526b6e2-cad2-4cbb-96a7-4bf918905649",
   "metadata": {},
   "outputs": [
    {
     "name": "stdout",
     "output_type": "stream",
     "text": [
      "Total single song genres: ['R&B/Hip-Hop alternative', 'Nu-disco', 'Pop/Soft Rock', 'Pop rap', 'Hip-Hop/Trap', 'Dance-pop/Disco', 'Disco-pop', 'Dreampop/Hip-Hop/R&B', 'Alternative/reggaeton/experimental', 'Chamber pop']\n"
     ]
    }
   ],
   "source": [
    "genre_counts = spotify_df['genre'].value_counts()\n",
    "single_song_genres = genre_counts[genre_counts == 1].index.tolist()\n",
    "print(f\"Total single song genres: {single_song_genres}\")"
   ]
  },
  {
   "cell_type": "markdown",
   "id": "91f66ddf-ac4f-4a44-960f-b76dc6fd6004",
   "metadata": {},
   "source": [
    "## 4.4.2 Single-Song Genres\n",
    "* **Takeaway:** <u>Ten genres</u> each appear exactly <u>once</u> in the Top 50: R&B/Hip-Hop alternative, Nu-disco, Pop/Soft Rock, Pop rap, Hip-Hop/Trap, Dance-pop/Disco, Disco-pop, Dreampop/Hip-Hop/R&B, Alternative/reggaeton/experimental, and Chamber pop.\n",
    "\n",
    "\n",
    "---  "
   ]
  },
  {
   "cell_type": "markdown",
   "id": "b069088b-203b-414a-b75d-9b2c7d0c480f",
   "metadata": {},
   "source": [
    "## **3) Genre Breakdown (Total Unique Genres):**\n",
    "### How many distinct genres in total are represented in the top 50?"
   ]
  },
  {
   "cell_type": "markdown",
   "id": "8c392c3f-0501-42f0-8417-183b8e5cee90",
   "metadata": {},
   "source": [
    "#### 4.4.3 Total Unique Genres\n",
    "\n",
    "**Goal:**  \n",
    "Determine how many distinct genres are represented among the Top 50 tracks."
   ]
  },
  {
   "cell_type": "code",
   "execution_count": 39,
   "id": "e48d6581-2b85-453a-b840-319ac8c33c63",
   "metadata": {},
   "outputs": [
    {
     "name": "stdout",
     "output_type": "stream",
     "text": [
      "Total unique genres: 16\n"
     ]
    }
   ],
   "source": [
    "total_genres = spotify_df['genre'].nunique()\n",
    "print(f\"Total unique genres: {total_genres}\")"
   ]
  },
  {
   "cell_type": "markdown",
   "id": "cd8c997b-3a53-426e-a79a-7fb4b288f3b9",
   "metadata": {},
   "source": [
    "## 4.4.3 Total Unique Genres\n",
    "* **Takeaway:** There are <u>16 distinct genres</u> represented in the Top 50.\n",
    "---"
   ]
  },
  {
   "cell_type": "markdown",
   "id": "54a25e2a-b3be-4ff4-90ee-56adac588ca5",
   "metadata": {},
   "source": [
    "## 4.5 Correlation Overview\n",
    "## **1) Correlation Overview (Positively Correlated):**\n",
    "### Which features are strongly positively correlated?"
   ]
  },
  {
   "cell_type": "markdown",
   "id": "27d81db2-4486-4480-a452-4842d7a6d48d",
   "metadata": {},
   "source": [
    "#### 4.5.1 Strongly Positive Correlations\n",
    "\n",
    "**Goal:**  \n",
    "Identify which pairs of numeric audio features exhibit a strong positive relationship (correlation r > 0.70)."
   ]
  },
  {
   "cell_type": "code",
   "execution_count": 41,
   "id": "830e907c-7760-4928-bfc3-783316a156b9",
   "metadata": {},
   "outputs": [
    {
     "data": {
      "image/png": "[encoded data removed]",
      "text/plain": [
       "<Figure size 1000x800 with 2 Axes>"
      ]
     },
     "metadata": {},
     "output_type": "display_data"
    }
   ],
   "source": [
    "correlation_matrix = spotify_df[num_cols].corr()\n",
    "\n",
    "upper_triangle_mask = np.triu(\n",
    "    np.ones_like(correlation_matrix, dtype=bool),\n",
    "    k=1\n",
    ")\n",
    "\n",
    "plt.figure(figsize=(10, 8))\n",
    "sns.heatmap(\n",
    "    correlation_matrix,\n",
    "    mask=upper_triangle_mask,\n",
    "    annot=True,\n",
    "    fmt=\".2f\",\n",
    "    cmap=\"coolwarm\"\n",
    ")\n",
    "plt.title(\"Correlation Matrix\")\n",
    "plt.show()"
   ]
  },
  {
   "cell_type": "markdown",
   "id": "4a297e01-3b63-4de6-bfe3-90854e7a08ee",
   "metadata": {},
   "source": [
    "## 4.5.1 Strongly Positive Correlations\n",
    "\n",
    "* **Takeaway:** The only pair of audio features with a correlation above 0.70 is <u>energy and loudness</u> (r ≈ 0.79).\n",
    "* **Insight:** This shows that <u>louder</u> tracks feel more <u>energetic</u>.\n",
    "\n",
    "---  "
   ]
  },
  {
   "cell_type": "markdown",
   "id": "67d25d81-6bd5-405b-ba52-c7bd845e7162",
   "metadata": {},
   "source": [
    "## **2) Correlation Overview (Negatively Correlated):**\n",
    "### Which features are strongly negatively correlated?"
   ]
  },
  {
   "cell_type": "markdown",
   "id": "4d46d1dd-7b82-4b64-a298-244f3f45c808",
   "metadata": {},
   "source": [
    "#### 4.5.2 Strongly Negative Correlations\n",
    "\n",
    "**Goal:**  \n",
    "Identify which pairs of numeric audio features exhibit a strong negative relationship (correlation r < -0.70)."
   ]
  },
  {
   "cell_type": "markdown",
   "id": "76755083-d03d-4990-b9ca-50f501b172ed",
   "metadata": {},
   "source": [
    "## 4.5.2 Strongly Negative Correlations\n",
    "\n",
    "- **Takeaway:** <u>No feature pair</u> crosses the -0.70 threshold. The <u>strongest</u> negative correlations are acousticness (vs energy r = -0.68, vs loudness r = -0.50) and instrumentalness & loudness (r = -0.55). We also see <u>moderate</u> negative correlations for instrumentalness & energy (r = -0.39) and acousticness & danceability (r = -0.36).\n",
    "- **Insight:**\n",
    "- Higher acousticness → lower energy: <u>Acoustic tracks feel noticeably calmer</u>.\n",
    "- Higher instrumentalness → lower loudness: <u>Instrumental focused songs play more softly</u>.\n",
    "- Higher acousticness → lower loudness: <u>Acoustic tracks tend to be softer in volume</u>.\n",
    "- Higher instrumentalness → lower energy: <u>Instrumental pieces feel less energetic.</u>\n",
    "- Higher acousticness → lower danceability: <u>Acoustic tracks are less danceable.</u>\n",
    "\n",
    "---  "
   ]
  },
  {
   "cell_type": "markdown",
   "id": "252a7e17-3d2c-4a91-87b9-01e308d41804",
   "metadata": {},
   "source": [
    "## **3) Correlation Overview (Not Correlated):**\n",
    "### Which features are not correlated?"
   ]
  },
  {
   "cell_type": "markdown",
   "id": "db06f509-13c7-46dc-b37c-67128c60bf4e",
   "metadata": {},
   "source": [
    "#### 4.5.3 Features That Are Not Correlated\n",
    "\n",
    "**Goal:**  \n",
    "Identify which pairs of numeric audio features exhibit virtually no linear relationship (|r| < 0.10)."
   ]
  },
  {
   "cell_type": "markdown",
   "id": "a2c1ac0d-108f-4ed5-8b29-2a52cf578479",
   "metadata": {},
   "source": [
    "## 4.5.3 Uncorrelated Features\n",
    "- **Takeaway:** Key, speechiness, liveness, tempo and duration are <u>near-zero correlation</u> (|r| < 0.10) <u>with</u> energy, loudness, danceability, acousticness, instrumentalness, and valence.\n",
    "- **Insight:** The statistical <u>independence</u> of these <u>features</u> means these dimensions add <u>unique, non-redundant information</u>. Knowing a track’s key, length, or live/vocal content tells you <u>nothing</u> about its energy, volume, or danceability.\n",
    "---"
   ]
  },
  {
   "cell_type": "markdown",
   "id": "6e8462d9-d6c2-4afd-b1f6-242f2f09c0c3",
   "metadata": {},
   "source": [
    "## 4.6 Genre Comparisons\n",
    "## **1) Genre Comparisons (Danceability):**\n",
    "### How does the danceability score compare between Pop, Hip-Hop/Rap, Dance/Electronic, and Alternative/Indie genres?"
   ]
  },
  {
   "cell_type": "markdown",
   "id": "78578dd8-899d-4ba7-8892-6f0af2bab438",
   "metadata": {},
   "source": [
    "#### 4.6.1 Danceability Comparison by Genre\n",
    "\n",
    "**Goal:**  \n",
    "Compare how danceable the Top 50 hits are across four genres. Pop, Hip‑Hop/Rap, Dance/Electronic and Alternative/Indie by looking at the median, lowest and highest danceability scores."
   ]
  },
  {
   "cell_type": "code",
   "execution_count": 63,
   "id": "6bb44f0b-ff42-49a9-a8a0-e9030d2a3cb8",
   "metadata": {},
   "outputs": [
    {
     "data": {
      "text/html": [
       "<div>\n",
       "<style scoped>\n",
       "    .dataframe tbody tr th:only-of-type {\n",
       "        vertical-align: middle;\n",
       "    }\n",
       "\n",
       "    .dataframe tbody tr th {\n",
       "        vertical-align: top;\n",
       "    }\n",
       "\n",
       "    .dataframe thead th {\n",
       "        text-align: right;\n",
       "    }\n",
       "</style>\n",
       "<table border=\"1\" class=\"dataframe\">\n",
       "  <thead>\n",
       "    <tr style=\"text-align: right;\">\n",
       "      <th></th>\n",
       "      <th>median</th>\n",
       "      <th>minimum</th>\n",
       "      <th>maximum</th>\n",
       "    </tr>\n",
       "    <tr>\n",
       "      <th>genre</th>\n",
       "      <th></th>\n",
       "      <th></th>\n",
       "      <th></th>\n",
       "    </tr>\n",
       "  </thead>\n",
       "  <tbody>\n",
       "    <tr>\n",
       "      <th>Pop</th>\n",
       "      <td>0.690</td>\n",
       "      <td>0.464</td>\n",
       "      <td>0.806</td>\n",
       "    </tr>\n",
       "    <tr>\n",
       "      <th>Hip-Hop/Rap</th>\n",
       "      <td>0.774</td>\n",
       "      <td>0.598</td>\n",
       "      <td>0.896</td>\n",
       "    </tr>\n",
       "    <tr>\n",
       "      <th>Dance/Electronic</th>\n",
       "      <td>0.785</td>\n",
       "      <td>0.647</td>\n",
       "      <td>0.880</td>\n",
       "    </tr>\n",
       "    <tr>\n",
       "      <th>Alternative/Indie</th>\n",
       "      <td>0.663</td>\n",
       "      <td>0.459</td>\n",
       "      <td>0.862</td>\n",
       "    </tr>\n",
       "  </tbody>\n",
       "</table>\n",
       "</div>"
      ],
      "text/plain": [
       "                   median  minimum  maximum\n",
       "genre                                      \n",
       "Pop                 0.690    0.464    0.806\n",
       "Hip-Hop/Rap         0.774    0.598    0.896\n",
       "Dance/Electronic    0.785    0.647    0.880\n",
       "Alternative/Indie   0.663    0.459    0.862"
      ]
     },
     "execution_count": 63,
     "metadata": {},
     "output_type": "execute_result"
    }
   ],
   "source": [
    "genres = ['Pop', 'Hip-Hop/Rap', 'Dance/Electronic', 'Alternative/Indie']\n",
    "\n",
    "genre_subset = spotify_df[spotify_df['genre'].isin(genres)]\n",
    "\n",
    "dance_stats = (\n",
    "    genre_subset\n",
    "      .groupby('genre')['danceability']\n",
    "      .agg(\n",
    "          median='median',\n",
    "          minimum='min',\n",
    "          maximum='max'\n",
    "      )\n",
    "      .loc[genres]\n",
    ")\n",
    "dance_stats"
   ]
  },
  {
   "cell_type": "markdown",
   "id": "14c45e7b-e8d0-4057-a9e3-0d9ee995a216",
   "metadata": {},
   "source": [
    "## 4.6.1 Danceability Comparison by Genre\n",
    "\n",
    "- **Takeaway:** <u>Dance/Electronic</u> and <u>Hip-Hop/Rap</u>: Almost every track gets you moving. <u>Pop</u>: Keeps a steady, dance friendly beat without extremes. <u>Alternative/Indie</u>: Some songs are laid-back and mellow, others are full on dance tunes.\n",
    "\n",
    "---"
   ]
  },
  {
   "cell_type": "markdown",
   "id": "a15778c7-3f43-403d-9e93-c8cb79a8dfcc",
   "metadata": {},
   "source": [
    "## **2) Genre Comparisons (Loudness):**\n",
    "### How does the loudness score compare between Pop, Hip-Hop/Rap, Dance/Electronic, and Alternative/Indie genres?"
   ]
  },
  {
   "cell_type": "markdown",
   "id": "9bbe5fa8-2de2-4228-b747-7b3261325c27",
   "metadata": {},
   "source": [
    "#### 4.6.2 Loudness Comparison by Genre\n",
    "\n",
    "**Goal:**  \n",
    "Compare how loud the Top 50 hits are across four genres. Pop, Hip-Hop/Rap, Dance/Electronic, and Alternative/Indie by examining their median, quietest, and loudest scores."
   ]
  },
  {
   "cell_type": "code",
   "execution_count": 61,
   "id": "38425a23-5388-40ca-8709-a3efe1ae93ba",
   "metadata": {},
   "outputs": [
    {
     "data": {
      "text/html": [
       "<div>\n",
       "<style scoped>\n",
       "    .dataframe tbody tr th:only-of-type {\n",
       "        vertical-align: middle;\n",
       "    }\n",
       "\n",
       "    .dataframe tbody tr th {\n",
       "        vertical-align: top;\n",
       "    }\n",
       "\n",
       "    .dataframe thead th {\n",
       "        text-align: right;\n",
       "    }\n",
       "</style>\n",
       "<table border=\"1\" class=\"dataframe\">\n",
       "  <thead>\n",
       "    <tr style=\"text-align: right;\">\n",
       "      <th></th>\n",
       "      <th>median</th>\n",
       "      <th>minimum</th>\n",
       "      <th>maximum</th>\n",
       "    </tr>\n",
       "    <tr>\n",
       "      <th>genre</th>\n",
       "      <th></th>\n",
       "      <th></th>\n",
       "      <th></th>\n",
       "    </tr>\n",
       "  </thead>\n",
       "  <tbody>\n",
       "    <tr>\n",
       "      <th>Pop</th>\n",
       "      <td>-6.6445</td>\n",
       "      <td>-14.454</td>\n",
       "      <td>-3.280</td>\n",
       "    </tr>\n",
       "    <tr>\n",
       "      <th>Hip-Hop/Rap</th>\n",
       "      <td>-7.6480</td>\n",
       "      <td>-8.820</td>\n",
       "      <td>-3.370</td>\n",
       "    </tr>\n",
       "    <tr>\n",
       "      <th>Dance/Electronic</th>\n",
       "      <td>-5.4570</td>\n",
       "      <td>-7.567</td>\n",
       "      <td>-3.756</td>\n",
       "    </tr>\n",
       "    <tr>\n",
       "      <th>Alternative/Indie</th>\n",
       "      <td>-5.2685</td>\n",
       "      <td>-6.401</td>\n",
       "      <td>-4.746</td>\n",
       "    </tr>\n",
       "  </tbody>\n",
       "</table>\n",
       "</div>"
      ],
      "text/plain": [
       "                   median  minimum  maximum\n",
       "genre                                      \n",
       "Pop               -6.6445  -14.454   -3.280\n",
       "Hip-Hop/Rap       -7.6480   -8.820   -3.370\n",
       "Dance/Electronic  -5.4570   -7.567   -3.756\n",
       "Alternative/Indie -5.2685   -6.401   -4.746"
      ]
     },
     "execution_count": 61,
     "metadata": {},
     "output_type": "execute_result"
    }
   ],
   "source": [
    "loud_stats = (\n",
    "    genre_subset\n",
    "      .groupby('genre')['loudness']\n",
    "      .agg(\n",
    "          median='median',\n",
    "          minimum='min',\n",
    "          maximum='max'\n",
    "      )\n",
    "      .loc[genres]\n",
    ")\n",
    "loud_stats"
   ]
  },
  {
   "cell_type": "markdown",
   "id": "ab96123a-0789-452d-b567-2f694a7ddc3c",
   "metadata": {},
   "source": [
    "## 4.6.2 Loudness Comparison by Genre\n",
    "- **Takeaway:** <u>Dance/Electronic:</u> Always loud and punchy. <u>Hip-Hop/Rap:</u> Generally softer overall. <u>Pop:</u> Tracks shift from soft, quiet verses to full blast choruses. <u>Alternative/Indie:</u> Stays loud throughout with hardly any quiet parts.\n",
    "\n",
    "---"
   ]
  },
  {
   "cell_type": "markdown",
   "id": "35e025ab-874f-4bf5-bf7a-8044737c1a10",
   "metadata": {},
   "source": [
    "## **3) Genre Comparisons (Acousticness):**\n",
    "### How does the acousticness score compare between Pop, Hip-Hop/Rap, Dance/Electronic, and Alternative/Indie genres?"
   ]
  },
  {
   "cell_type": "markdown",
   "id": "6d663161-b464-4bd8-a56d-a2a5dad8d1b4",
   "metadata": {},
   "source": [
    "#### 4.6.3 Acousticness Comparison by Genre\n",
    "\n",
    "**Goal:** Compare how acoustic the Top 50 hits are across four genres. Pop, Hip-Hop/Rap, Dance/Electronic, and Alternative/Indie by examining their median, lowest, and highest acousticness scores."
   ]
  },
  {
   "cell_type": "code",
   "execution_count": 60,
   "id": "fbc1d40e-4387-477d-9d9e-b791d98c9cfc",
   "metadata": {},
   "outputs": [
    {
     "data": {
      "text/html": [
       "<div>\n",
       "<style scoped>\n",
       "    .dataframe tbody tr th:only-of-type {\n",
       "        vertical-align: middle;\n",
       "    }\n",
       "\n",
       "    .dataframe tbody tr th {\n",
       "        vertical-align: top;\n",
       "    }\n",
       "\n",
       "    .dataframe thead th {\n",
       "        text-align: right;\n",
       "    }\n",
       "</style>\n",
       "<table border=\"1\" class=\"dataframe\">\n",
       "  <thead>\n",
       "    <tr style=\"text-align: right;\">\n",
       "      <th></th>\n",
       "      <th>median</th>\n",
       "      <th>minimum</th>\n",
       "      <th>maximum</th>\n",
       "    </tr>\n",
       "    <tr>\n",
       "      <th>genre</th>\n",
       "      <th></th>\n",
       "      <th></th>\n",
       "      <th></th>\n",
       "    </tr>\n",
       "  </thead>\n",
       "  <tbody>\n",
       "    <tr>\n",
       "      <th>Pop</th>\n",
       "      <td>0.2590</td>\n",
       "      <td>0.02100</td>\n",
       "      <td>0.902</td>\n",
       "    </tr>\n",
       "    <tr>\n",
       "      <th>Hip-Hop/Rap</th>\n",
       "      <td>0.1450</td>\n",
       "      <td>0.00513</td>\n",
       "      <td>0.731</td>\n",
       "    </tr>\n",
       "    <tr>\n",
       "      <th>Dance/Electronic</th>\n",
       "      <td>0.0686</td>\n",
       "      <td>0.01370</td>\n",
       "      <td>0.223</td>\n",
       "    </tr>\n",
       "    <tr>\n",
       "      <th>Alternative/Indie</th>\n",
       "      <td>0.6460</td>\n",
       "      <td>0.29100</td>\n",
       "      <td>0.751</td>\n",
       "    </tr>\n",
       "  </tbody>\n",
       "</table>\n",
       "</div>"
      ],
      "text/plain": [
       "                   median  minimum  maximum\n",
       "genre                                      \n",
       "Pop                0.2590  0.02100    0.902\n",
       "Hip-Hop/Rap        0.1450  0.00513    0.731\n",
       "Dance/Electronic   0.0686  0.01370    0.223\n",
       "Alternative/Indie  0.6460  0.29100    0.751"
      ]
     },
     "execution_count": 60,
     "metadata": {},
     "output_type": "execute_result"
    }
   ],
   "source": [
    "acoustic_stats = (\n",
    "    genre_subset\n",
    "      .groupby('genre')['acousticness']\n",
    "      .agg(\n",
    "          median='median',\n",
    "          minimum='min',\n",
    "          maximum='max'\n",
    "      )\n",
    "      .loc[genres]\n",
    ")\n",
    "acoustic_stats"
   ]
  },
  {
   "cell_type": "markdown",
   "id": "3a74147b-43ac-4f4a-abbb-dd5f57a8b40e",
   "metadata": {},
   "source": [
    "## 4.6.3 Acousticness Comparison by Genre\n",
    "- **Takeaway:** <u>Alternative/Indie</u>: Songs almost always use real instruments. <u>Dance/Electronic</u>: Songs rarely use live instruments and rely almost entirely on synthetic sounds. <u>Pop</u>: Tracks blend both real, “live” instruments (like guitars or pianos) and electronic sounds (synths, drum machines) in the same song. <u>Hip-Hop/Rap</u>: Songs stick mostly to electronic beats with a few live sounds.\n",
    "\n",
    "---"
   ]
  },
  {
   "cell_type": "markdown",
   "id": "598cd2fa-22c0-4217-8d74-907b3687d425",
   "metadata": {},
   "source": [
    "# Spotify Tracks Analysis: Final Summary\n",
    "\n",
    "#### In line with the stated aim to uncover the audio characteristics that underpin a successful hit here are the four key conclusions:\n",
    "\n",
    "* **High energy, loud production drives hit potential.**\n",
    "  The very strong positive correlation between energy and loudness (r ≈ 0.79) indicates that tracks with punchy, high energy mixes are far more likely to break into the Top 50.\n",
    "\n",
    "* **Mainstream pop stylings and star power matter.**\n",
    "  With Pop accounting for over a quarter of the list and artists like Dua Lipa, Billie Eilish, and Travis Scott each securing three entries, the analysis shows that familiar pop formats and established names consistently translate into chart success.\n",
    "\n",
    "* **Genre tailored audio profiles align with listener expectations.**\n",
    "  Dance/Electronic and Hip-Hop/Rap tracks top the danceability rankings, while Alternative/Indie songs lead in acousticness. Demonstrating that hits are most successful when they accentuate the features fans expect from a given genre.\n",
    "\n",
    "* **Chart topping tracks span a wide feature spectrum.**\n",
    "  Although there are clear “sweet spots,” hits range from low danceability ballads (e.g. 0.351) to high energy anthems (e.g. 0.935) and run from \\~2 min 20 sec to \\~5 min 12 sec - showing that flexibility within broad feature ranges still supports mass appeal.\n"
   ]
  },
  {
   "cell_type": "markdown",
   "id": "01fdeb32-4958-455c-9135-931e83a591a0",
   "metadata": {},
   "source": [
    "## Further Improvements & Research Directions:\n",
    "1. Show how danceability, loudness, and acousticness overlap and differ between genres using <u>ridgeline</u> plots.\n",
    "2. Analyze the most frequently used musical notes (e.g. C, D, E) in top songs and <u>compare key popularity</u> across genres such as Pop and Hip-Hop via bar charts.\n",
    "3. For artists with multiple hit songs, create a simple chart comparing the energy, mood, and loudness of their hits to reveal each artist’s <u>signature sound</u> traits.\n",
    "4. Add streaming counts to the dataset to <u>truly measure</u> each song’s popularity."
   ]
  },
  {
   "cell_type": "code",
   "execution_count": null,
   "id": "f5a5594e-d767-4c8e-9b5e-4da213c10fe1",
   "metadata": {},
   "outputs": [],
   "source": []
  }
 ],
 "metadata": {
  "kernelspec": {
   "display_name": "Python 3 (ipykernel)",
   "language": "python",
   "name": "python3"
  },
  "language_info": {
   "codemirror_mode": {
    "name": "ipython",
    "version": 3
   },
   "file_extension": ".py",
   "mimetype": "text/x-python",
   "name": "python",
   "nbconvert_exporter": "python",
   "pygments_lexer": "ipython3",
   "version": "3.13.0"
  }
 },
 "nbformat": 4,
 "nbformat_minor": 5
}
